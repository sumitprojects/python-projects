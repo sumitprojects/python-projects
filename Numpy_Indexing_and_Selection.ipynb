{
  "nbformat": 4,
  "nbformat_minor": 0,
  "metadata": {
    "kernelspec": {
      "display_name": "Python 3",
      "language": "python",
      "name": "python3"
    },
    "language_info": {
      "codemirror_mode": {
        "name": "ipython",
        "version": 3
      },
      "file_extension": ".py",
      "mimetype": "text/x-python",
      "name": "python",
      "nbconvert_exporter": "python",
      "pygments_lexer": "ipython3",
      "version": "3.7.4"
    },
    "colab": {
      "name": "Numpy Indexing and Selection.ipynb",
      "provenance": [],
      "include_colab_link": true
    }
  },
  "cells": [
    {
      "cell_type": "markdown",
      "metadata": {
        "id": "view-in-github",
        "colab_type": "text"
      },
      "source": [
        "<a href=\"https://colab.research.google.com/github/sumitprojects/python-projects/blob/master/Numpy_Indexing_and_Selection.ipynb\" target=\"_parent\"><img src=\"https://colab.research.google.com/assets/colab-badge.svg\" alt=\"Open In Colab\"/></a>"
      ]
    },
    {
      "cell_type": "code",
      "metadata": {
        "id": "6RY5grUzdPEE",
        "colab_type": "code",
        "colab": {}
      },
      "source": [
        "import numpy as np"
      ],
      "execution_count": 0,
      "outputs": []
    },
    {
      "cell_type": "code",
      "metadata": {
        "id": "RZbSlJ18dPEU",
        "colab_type": "code",
        "colab": {}
      },
      "source": [
        "arr = np.arange(0,11)"
      ],
      "execution_count": 0,
      "outputs": []
    },
    {
      "cell_type": "code",
      "metadata": {
        "id": "rizWXcn9dPEl",
        "colab_type": "code",
        "colab": {},
        "outputId": "2e90908b-cdfe-4278-9bb6-cc8bb08c31d9"
      },
      "source": [
        "arr"
      ],
      "execution_count": 0,
      "outputs": [
        {
          "output_type": "execute_result",
          "data": {
            "text/plain": [
              "array([ 0,  1,  2,  3,  4,  5,  6,  7,  8,  9, 10])"
            ]
          },
          "metadata": {
            "tags": []
          },
          "execution_count": 3
        }
      ]
    },
    {
      "cell_type": "markdown",
      "metadata": {
        "id": "fOVTQIe7dPEy",
        "colab_type": "text"
      },
      "source": [
        "## Bracket Indexing and Selection"
      ]
    },
    {
      "cell_type": "code",
      "metadata": {
        "id": "ebZNNd0DdPE0",
        "colab_type": "code",
        "colab": {},
        "outputId": "821488fd-aceb-4285-a137-e42bf2467e95"
      },
      "source": [
        "arr[9]"
      ],
      "execution_count": 0,
      "outputs": [
        {
          "output_type": "execute_result",
          "data": {
            "text/plain": [
              "9"
            ]
          },
          "metadata": {
            "tags": []
          },
          "execution_count": 4
        }
      ]
    },
    {
      "cell_type": "code",
      "metadata": {
        "id": "7gZ_b0GAdPFB",
        "colab_type": "code",
        "colab": {},
        "outputId": "e273d393-da5d-4bfa-f024-1fe332b816d7"
      },
      "source": [
        "arr[:5]"
      ],
      "execution_count": 0,
      "outputs": [
        {
          "output_type": "execute_result",
          "data": {
            "text/plain": [
              "array([0, 1, 2, 3, 4])"
            ]
          },
          "metadata": {
            "tags": []
          },
          "execution_count": 5
        }
      ]
    },
    {
      "cell_type": "code",
      "metadata": {
        "id": "v5eyERMRdPFN",
        "colab_type": "code",
        "colab": {},
        "outputId": "96510e7f-9425-4e4c-d4cd-6350b2bbf35f"
      },
      "source": [
        "arr[1:5]"
      ],
      "execution_count": 0,
      "outputs": [
        {
          "output_type": "execute_result",
          "data": {
            "text/plain": [
              "array([1, 2, 3, 4])"
            ]
          },
          "metadata": {
            "tags": []
          },
          "execution_count": 6
        }
      ]
    },
    {
      "cell_type": "markdown",
      "metadata": {
        "id": "ujqv57kidPFZ",
        "colab_type": "text"
      },
      "source": [
        "### Broadcasting\n",
        "\n",
        "Numpy arrays will differ from normal python list because of their ability to broadcast"
      ]
    },
    {
      "cell_type": "code",
      "metadata": {
        "id": "CWxDq5u9dPFb",
        "colab_type": "code",
        "colab": {},
        "outputId": "215ed030-40ae-4edc-b976-051987fab0a9"
      },
      "source": [
        "arr"
      ],
      "execution_count": 0,
      "outputs": [
        {
          "output_type": "execute_result",
          "data": {
            "text/plain": [
              "array([ 0,  1,  2,  3,  4,  5,  6,  7,  8,  9, 10])"
            ]
          },
          "metadata": {
            "tags": []
          },
          "execution_count": 7
        }
      ]
    },
    {
      "cell_type": "code",
      "metadata": {
        "id": "Via9itzbdPFn",
        "colab_type": "code",
        "colab": {},
        "outputId": "df03866b-8956-4945-f1c2-a91839cfb8e9"
      },
      "source": [
        "arr[0:5]"
      ],
      "execution_count": 0,
      "outputs": [
        {
          "output_type": "execute_result",
          "data": {
            "text/plain": [
              "array([0, 1, 2, 3, 4])"
            ]
          },
          "metadata": {
            "tags": []
          },
          "execution_count": 8
        }
      ]
    },
    {
      "cell_type": "code",
      "metadata": {
        "id": "_EmHC2ltdPFu",
        "colab_type": "code",
        "colab": {}
      },
      "source": [
        "arr[0:5] = 99"
      ],
      "execution_count": 0,
      "outputs": []
    },
    {
      "cell_type": "code",
      "metadata": {
        "id": "UHv6PHm6dPF0",
        "colab_type": "code",
        "colab": {},
        "outputId": "0002fd14-5dd7-4f6b-86df-496098029b26"
      },
      "source": [
        "arr"
      ],
      "execution_count": 0,
      "outputs": [
        {
          "output_type": "execute_result",
          "data": {
            "text/plain": [
              "array([99, 99, 99, 99, 99,  5,  6,  7,  8,  9, 10])"
            ]
          },
          "metadata": {
            "tags": []
          },
          "execution_count": 10
        }
      ]
    },
    {
      "cell_type": "code",
      "metadata": {
        "id": "q44QoxVmdPF7",
        "colab_type": "code",
        "colab": {},
        "outputId": "9a23b991-13a7-42a4-856a-d93cb1c0e0ea"
      },
      "source": [
        "slicearr = arr[0:6]\n",
        "slicearr"
      ],
      "execution_count": 0,
      "outputs": [
        {
          "output_type": "execute_result",
          "data": {
            "text/plain": [
              "array([99, 99, 99, 99, 99,  5])"
            ]
          },
          "metadata": {
            "tags": []
          },
          "execution_count": 11
        }
      ]
    },
    {
      "cell_type": "code",
      "metadata": {
        "id": "7n9U857wdPGF",
        "colab_type": "code",
        "colab": {},
        "outputId": "2a25bf97-3caa-486c-c9c7-603642e276ba"
      },
      "source": [
        "slicearr[:] = 100\n",
        "slicearr"
      ],
      "execution_count": 0,
      "outputs": [
        {
          "output_type": "execute_result",
          "data": {
            "text/plain": [
              "array([100, 100, 100, 100, 100, 100])"
            ]
          },
          "metadata": {
            "tags": []
          },
          "execution_count": 12
        }
      ]
    },
    {
      "cell_type": "code",
      "metadata": {
        "id": "2ctbahqGdPGM",
        "colab_type": "code",
        "colab": {},
        "outputId": "86ebc906-4dd0-426a-eae5-5f037d735657"
      },
      "source": [
        "arr"
      ],
      "execution_count": 0,
      "outputs": [
        {
          "output_type": "execute_result",
          "data": {
            "text/plain": [
              "array([100, 100, 100, 100, 100, 100,   6,   7,   8,   9,  10])"
            ]
          },
          "metadata": {
            "tags": []
          },
          "execution_count": 13
        }
      ]
    },
    {
      "cell_type": "code",
      "metadata": {
        "id": "KGKp5oledPGR",
        "colab_type": "code",
        "colab": {},
        "outputId": "9c784b84-8c9c-4834-9724-4c04029f6c80"
      },
      "source": [
        "arr_copy = arr.copy()\n",
        "\n",
        "arr_copy"
      ],
      "execution_count": 0,
      "outputs": [
        {
          "output_type": "execute_result",
          "data": {
            "text/plain": [
              "array([100, 100, 100, 100, 100, 100,   6,   7,   8,   9,  10])"
            ]
          },
          "metadata": {
            "tags": []
          },
          "execution_count": 14
        }
      ]
    },
    {
      "cell_type": "markdown",
      "metadata": {
        "id": "i5LCbfr3dPGY",
        "colab_type": "text"
      },
      "source": [
        "### Selection"
      ]
    },
    {
      "cell_type": "code",
      "metadata": {
        "id": "9viK59AtdPGZ",
        "colab_type": "code",
        "colab": {}
      },
      "source": [
        "arr = np.arange(1,11)"
      ],
      "execution_count": 0,
      "outputs": []
    },
    {
      "cell_type": "code",
      "metadata": {
        "id": "LYrS0ILTdPGd",
        "colab_type": "code",
        "colab": {},
        "outputId": "d50f200d-a4b6-47a2-e0a7-e6a65f8fc41b"
      },
      "source": [
        "arr"
      ],
      "execution_count": 0,
      "outputs": [
        {
          "output_type": "execute_result",
          "data": {
            "text/plain": [
              "array([ 1,  2,  3,  4,  5,  6,  7,  8,  9, 10])"
            ]
          },
          "metadata": {
            "tags": []
          },
          "execution_count": 16
        }
      ]
    },
    {
      "cell_type": "code",
      "metadata": {
        "id": "om_cA6BRdPGj",
        "colab_type": "code",
        "colab": {}
      },
      "source": [
        "barr = arr > 4"
      ],
      "execution_count": 0,
      "outputs": []
    },
    {
      "cell_type": "code",
      "metadata": {
        "id": "APmqpL_-dPGr",
        "colab_type": "code",
        "colab": {},
        "outputId": "67b2fbe0-0121-44e3-9d35-6bf67045b2bd"
      },
      "source": [
        "arr[arr>4]"
      ],
      "execution_count": 0,
      "outputs": [
        {
          "output_type": "execute_result",
          "data": {
            "text/plain": [
              "array([ 5,  6,  7,  8,  9, 10])"
            ]
          },
          "metadata": {
            "tags": []
          },
          "execution_count": 22
        }
      ]
    },
    {
      "cell_type": "code",
      "metadata": {
        "id": "sKMEfYPZdPGx",
        "colab_type": "code",
        "colab": {},
        "outputId": "9c417c55-608a-46d8-a2bf-790298828323"
      },
      "source": [
        "arr[barr]"
      ],
      "execution_count": 0,
      "outputs": [
        {
          "output_type": "execute_result",
          "data": {
            "text/plain": [
              "array([ 5,  6,  7,  8,  9, 10])"
            ]
          },
          "metadata": {
            "tags": []
          },
          "execution_count": 23
        }
      ]
    },
    {
      "cell_type": "markdown",
      "metadata": {
        "id": "ArBiUC0ZdPG1",
        "colab_type": "text"
      },
      "source": [
        "## shallow and deep copy"
      ]
    },
    {
      "cell_type": "code",
      "metadata": {
        "id": "Weu3bfbsdPG2",
        "colab_type": "code",
        "colab": {}
      },
      "source": [
        "xx = [[1,2,3],[4,5,6],[7,8,9]]\n",
        "yy = list(xx) # Making a shallow copy"
      ],
      "execution_count": 0,
      "outputs": []
    },
    {
      "cell_type": "markdown",
      "metadata": {
        "id": "UPzhk4HKdPG9",
        "colab_type": "text"
      },
      "source": [
        "The above operation is shallow copy\n",
        "\n",
        "yy will be a new and independent object with same content as xx."
      ]
    },
    {
      "cell_type": "code",
      "metadata": {
        "id": "Ure38905dPG_",
        "colab_type": "code",
        "colab": {},
        "outputId": "3927b921-5f8a-4e0b-c83d-9e974d60a1c6"
      },
      "source": [
        "xx"
      ],
      "execution_count": 0,
      "outputs": [
        {
          "output_type": "execute_result",
          "data": {
            "text/plain": [
              "[[1, 2, 3], [4, 5, 6], [7, 8, 9]]"
            ]
          },
          "metadata": {
            "tags": []
          },
          "execution_count": 26
        }
      ]
    },
    {
      "cell_type": "code",
      "metadata": {
        "id": "2YsAY9UYdPHE",
        "colab_type": "code",
        "colab": {},
        "outputId": "f7924703-5c1d-4144-dd02-e7c82b828899"
      },
      "source": [
        "yy"
      ],
      "execution_count": 0,
      "outputs": [
        {
          "output_type": "execute_result",
          "data": {
            "text/plain": [
              "[[1, 2, 3], [4, 5, 6], [7, 8, 9]]"
            ]
          },
          "metadata": {
            "tags": []
          },
          "execution_count": 27
        }
      ]
    },
    {
      "cell_type": "code",
      "metadata": {
        "id": "ENzgPygGdPHJ",
        "colab_type": "code",
        "colab": {}
      },
      "source": [
        "xx.append(['new list nested'])"
      ],
      "execution_count": 0,
      "outputs": []
    },
    {
      "cell_type": "code",
      "metadata": {
        "id": "Tpk32W0VdPHP",
        "colab_type": "code",
        "colab": {},
        "outputId": "d5f7e3a1-a006-4759-a46c-33396f178113"
      },
      "source": [
        "xx"
      ],
      "execution_count": 0,
      "outputs": [
        {
          "output_type": "execute_result",
          "data": {
            "text/plain": [
              "[[1, 2, 3], [4, 5, 6], [7, 8, 9], ['new list nested']]"
            ]
          },
          "metadata": {
            "tags": []
          },
          "execution_count": 29
        }
      ]
    },
    {
      "cell_type": "code",
      "metadata": {
        "id": "3I0_sWmodPHW",
        "colab_type": "code",
        "colab": {},
        "outputId": "6c460541-20fe-401b-ca10-cbd7ac8f669b"
      },
      "source": [
        "yy"
      ],
      "execution_count": 0,
      "outputs": [
        {
          "output_type": "execute_result",
          "data": {
            "text/plain": [
              "[[1, 2, 3], [4, 5, 6], [7, 8, 9]]"
            ]
          },
          "metadata": {
            "tags": []
          },
          "execution_count": 30
        }
      ]
    },
    {
      "cell_type": "code",
      "metadata": {
        "id": "b2swe1x_dPHd",
        "colab_type": "code",
        "colab": {}
      },
      "source": [
        "xx[1][0] = 99999"
      ],
      "execution_count": 0,
      "outputs": []
    },
    {
      "cell_type": "code",
      "metadata": {
        "id": "O8YQGTwydPHk",
        "colab_type": "code",
        "colab": {},
        "outputId": "5a890d34-001a-4ada-e553-5231b71cca62"
      },
      "source": [
        "xx"
      ],
      "execution_count": 0,
      "outputs": [
        {
          "output_type": "execute_result",
          "data": {
            "text/plain": [
              "[[1, 2, 3], [99999, 5, 6], [7, 8, 9], ['new list nested']]"
            ]
          },
          "metadata": {
            "tags": []
          },
          "execution_count": 33
        }
      ]
    },
    {
      "cell_type": "code",
      "metadata": {
        "id": "iP17_ClydPHr",
        "colab_type": "code",
        "colab": {},
        "outputId": "fdd8b2da-5ea1-4f1b-c1a1-d1422693757b"
      },
      "source": [
        "yy"
      ],
      "execution_count": 0,
      "outputs": [
        {
          "output_type": "execute_result",
          "data": {
            "text/plain": [
              "[[1, 2, 3], [99999, 5, 6], [7, 8, 9]]"
            ]
          },
          "metadata": {
            "tags": []
          },
          "execution_count": 34
        }
      ]
    },
    {
      "cell_type": "markdown",
      "metadata": {
        "id": "WqA3cQEvdPHv",
        "colab_type": "text"
      },
      "source": [
        "### Deep Copy"
      ]
    },
    {
      "cell_type": "code",
      "metadata": {
        "id": "Kzi1Gn0vdPHw",
        "colab_type": "code",
        "colab": {}
      },
      "source": [
        "import copy"
      ],
      "execution_count": 0,
      "outputs": []
    },
    {
      "cell_type": "code",
      "metadata": {
        "id": "ggsSj_HadPH2",
        "colab_type": "code",
        "colab": {}
      },
      "source": [
        "xxd =[[1,2,3],[4,5,6],[7,8,9]]\n",
        "zz = copy.deepcopy(xxd)\n"
      ],
      "execution_count": 0,
      "outputs": []
    },
    {
      "cell_type": "code",
      "metadata": {
        "id": "qQptmSMtdPH9",
        "colab_type": "code",
        "colab": {},
        "outputId": "7796c2a2-b1a3-4af2-a201-0182fd1da283"
      },
      "source": [
        "xxd"
      ],
      "execution_count": 0,
      "outputs": [
        {
          "output_type": "execute_result",
          "data": {
            "text/plain": [
              "[[1, 2, 3], [4, 5, 6], [7, 8, 9]]"
            ]
          },
          "metadata": {
            "tags": []
          },
          "execution_count": 38
        }
      ]
    },
    {
      "cell_type": "code",
      "metadata": {
        "id": "6FRGisJwdPIC",
        "colab_type": "code",
        "colab": {},
        "outputId": "e2a15cc9-43c8-41fa-9a18-46e4a57487b7"
      },
      "source": [
        "zz"
      ],
      "execution_count": 0,
      "outputs": [
        {
          "output_type": "execute_result",
          "data": {
            "text/plain": [
              "[[1, 2, 3], [4, 5, 6], [7, 8, 9]]"
            ]
          },
          "metadata": {
            "tags": []
          },
          "execution_count": 39
        }
      ]
    },
    {
      "cell_type": "code",
      "metadata": {
        "id": "rJr0F0VudPIH",
        "colab_type": "code",
        "colab": {}
      },
      "source": [
        "xxd[1][0] ='XXXXX'"
      ],
      "execution_count": 0,
      "outputs": []
    },
    {
      "cell_type": "code",
      "metadata": {
        "id": "UAziKQQqdPIM",
        "colab_type": "code",
        "colab": {},
        "outputId": "c47befd0-9b14-46e5-f647-5d5405c749b9"
      },
      "source": [
        "xxd"
      ],
      "execution_count": 0,
      "outputs": [
        {
          "output_type": "execute_result",
          "data": {
            "text/plain": [
              "[[1, 2, 3], ['XXXXX', 5, 6], [7, 8, 9]]"
            ]
          },
          "metadata": {
            "tags": []
          },
          "execution_count": 41
        }
      ]
    },
    {
      "cell_type": "code",
      "metadata": {
        "id": "8ILmBXgwdPIT",
        "colab_type": "code",
        "colab": {},
        "outputId": "0759833a-99be-47fd-df3b-d69fd1c6ee90"
      },
      "source": [
        "zz"
      ],
      "execution_count": 0,
      "outputs": [
        {
          "output_type": "execute_result",
          "data": {
            "text/plain": [
              "[[1, 2, 3], [4, 5, 6], [7, 8, 9]]"
            ]
          },
          "metadata": {
            "tags": []
          },
          "execution_count": 42
        }
      ]
    },
    {
      "cell_type": "code",
      "metadata": {
        "id": "LwubFtjwdPIY",
        "colab_type": "code",
        "colab": {}
      },
      "source": [
        ""
      ],
      "execution_count": 0,
      "outputs": []
    }
  ]
}