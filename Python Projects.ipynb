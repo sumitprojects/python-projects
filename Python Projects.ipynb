{
 "cells": [
  {
   "cell_type": "markdown",
   "metadata": {},
   "source": [
    "# Area Calculator"
   ]
  },
  {
   "cell_type": "code",
   "execution_count": 14,
   "metadata": {},
   "outputs": [
    {
     "name": "stdout",
     "output_type": "stream",
     "text": [
      "Starting the calculator...\n",
      "Enter C for Circle or T for Triangle: t\n",
      "Enter base: 55\n",
      "Enter height: 5\n",
      "Area: 137.500000\n"
     ]
    }
   ],
   "source": [
    "\"\"\"Area Calculator\"\"\"\n",
    "\n",
    "import sys\n",
    "\n",
    "# program starts here\n",
    "print (\"Starting the calculator...\")\n",
    "# input option\n",
    "option = input(\"Enter C for Circle or T for Triangle: \")\n",
    "if option == 'C' or option == 'c':\n",
    "    # area for the circle calculated here\n",
    "    radius = float(input(\"Enter radius: \"))\n",
    "    area = 3.14159 * radius**2\n",
    "    print ((\"Area: %f\") % (area))\n",
    "elif option == 'T' or option == 't':\n",
    "  #\tarea for the triangle calculated here \n",
    "    base = float(input(\"Enter base: \"))\n",
    "    height = float(input(\"Enter height: \"))\n",
    "    area = 0.5 * (base * height)\n",
    "    print ((\"Area: %f\") % (area))\n",
    "else:\n",
    "    # wrong choice selection error\n",
    "    print (\"You have entered wrong choice\")"
   ]
  },
  {
   "cell_type": "markdown",
   "metadata": {},
   "source": [
    "# The Number Guess"
   ]
  },
  {
   "cell_type": "code",
   "execution_count": 17,
   "metadata": {},
   "outputs": [
    {
     "name": "stdout",
     "output_type": "stream",
     "text": [
      "Enter your Guess: 5\n",
      "Rolling...\n",
      "The 1st roll is: 1\n",
      "The 2nd roll is: 3\n",
      "Result...\n",
      "You lost\n"
     ]
    }
   ],
   "source": [
    "\"\"\"The Number Guess\"\"\"\n",
    "import sys\n",
    "from random import randint\n",
    "from time import sleep\n",
    "\n",
    "def get_user_guess():\n",
    "    guess  = int(input(\"Enter your Guess: \"))\n",
    "    return guess\n",
    "\n",
    "def roll_dice(number_of_sides):\n",
    "    guess = get_user_guess()\n",
    "    first_roll = randint(1,number_of_sides)\n",
    "    second_roll = randint(1,number_of_sides)\n",
    "    max_val = number_of_sides * 2\n",
    "    if guess > max_val:\n",
    "        print (\"Not Allowed\")\n",
    "    else:\n",
    "        print (\"Rolling...\")\n",
    "        sleep(2)\n",
    "        print ((\"The 1st roll is: %d\") % (first_roll))\n",
    "        sleep(1)\n",
    "        print ((\"The 2nd roll is: %d\") % (second_roll))\n",
    "        sleep(1)\n",
    "        print (\"Result...\")\n",
    "        sleep(1)\n",
    "        total_roll = first_roll + second_roll\n",
    "        if total_roll == guess:\n",
    "            print (\"You win\")\n",
    "        else:\n",
    "            print (\"You lost\")\n",
    "  \n",
    "roll_dice(6)"
   ]
  },
  {
   "cell_type": "markdown",
   "metadata": {},
   "source": [
    "# Bill Calculator"
   ]
  },
  {
   "cell_type": "code",
   "execution_count": null,
   "metadata": {},
   "outputs": [
    {
     "name": "stdout",
     "output_type": "stream",
     "text": [
      "For banana only 6 is available\n"
     ]
    }
   ],
   "source": [
    "\"\"\"Shopping List Bill Generator\"\"\"\n",
    "import sys\n",
    "\n",
    "shopping_list = {\"banana\" : 8 , \"orange\" : 5, \"apple\" : 1}\n",
    "\n",
    "stock = {\n",
    "  \"banana\": 6,\n",
    "  \"apple\": 0,\n",
    "  \"orange\": 32,\n",
    "  \"pear\": 15\n",
    "}\n",
    "    \n",
    "prices = {\n",
    "  \"banana\": 4,\n",
    "  \"apple\": 2,\n",
    "  \"orange\": 1.5,\n",
    "  \"pear\": 3\n",
    "}\n",
    "\n",
    "# Write your code below!\n",
    "def compute_bill(food):\n",
    "    total = 0\n",
    "    for item in food:\n",
    "            if stock[item] != 0 and stock[item] > food[item]:\n",
    "                stock[item] -= food[item]\n",
    "                total += (prices[item]*food[item])\n",
    "            elif stock[item] < food[item] and stock[item] != 0:\n",
    "                print ((\"For %s only %s is available\") % (item,stock[item]))\n",
    "                choice = input(\"want to buy all? Y or N\\n\")\n",
    "                if choice == \"Y\" or choice == \"y\":\n",
    "                    total += (prices[item]*stock[item])\n",
    "                    stock[item] = 0\n",
    "            else:\n",
    "                print((\"%s is not available in our stock\")% (item))  \n",
    "    return total\n",
    "\n",
    "print (compute_bill(shopping_list))\n",
    "\n",
    "print\n",
    "print\n",
    "\n",
    "print (stock)"
   ]
  },
  {
   "cell_type": "markdown",
   "metadata": {},
   "source": [
    "# Rock, Paper, Scissors"
   ]
  },
  {
   "cell_type": "code",
   "execution_count": 2,
   "metadata": {},
   "outputs": [
    {
     "name": "stdout",
     "output_type": "stream",
     "text": [
      "Enter Rock, Paper, or Scissors: Rock\n",
      "User choice ROCK\n",
      "computer choice SCISSORS\n",
      "Yay you won!\n"
     ]
    }
   ],
   "source": [
    "\"\"\"Rock, Paper, Scissors\"\"\"\n",
    "from random import randint\n",
    "from time import sleep\n",
    "options = [\"ROCK\", \"PAPER\", \"SCISSORS\"]\n",
    "\n",
    "message = {\"tie\" :\"Yawn it's a tie!\",\n",
    "          \t\"won\" : \"Yay you won!\", \n",
    "          \t\"lost\" : \"Aww you lost!\"}\n",
    "\n",
    "def decide_winner(user_choice,computer_choice):\n",
    "    print (\"User choice %s\" % (user_choice))\n",
    "    print (\"computer choice %s\" % (options[computer_choice]))\n",
    "    computer_choice = options[computer_choice]\n",
    "    sleep(2)\n",
    "    if user_choice == computer_choice:\n",
    "        print (\"%s\" % (message[\"tie\"]))\n",
    "    elif user_choice == options[0] and computer_choice == options[2]:\n",
    "        print (\"%s\" % message[\"won\"])\n",
    "    elif user_choice == options[1] and computer_choice==options[0]:\n",
    "        print (\"%s\" % message[\"won\"])\n",
    "    elif user_choice == options[2] and computer_choice == options[1]:\n",
    "        print (message[\"won\"])\n",
    "    else:\n",
    "        print (message[\"lost\"])\n",
    "\n",
    "def play_RPS():\n",
    "    user_choice = input(\"Enter Rock, Paper, or Scissors: \")\n",
    "    user_choice = user_choice.upper()\n",
    "    computer_choice = randint(0,2)\n",
    "    sleep(1)\n",
    "    decide_winner(user_choice,computer_choice)\n",
    "\n",
    "  \n",
    "play_RPS()"
   ]
  },
  {
   "cell_type": "markdown",
   "metadata": {},
   "source": [
    "# Students Grades Inforamation"
   ]
  },
  {
   "cell_type": "code",
   "execution_count": 3,
   "metadata": {},
   "outputs": [
    {
     "name": "stdout",
     "output_type": "stream",
     "text": [
      "--------------------------------------------\n",
      "Students Name : Lloyd\t Avg : 80.55\t Grades : B\n",
      "\n",
      "Students Name : Alice\t Avg : 91.15\t Grades : A\n",
      "\n",
      "Students Name : Tyler\t Avg : 79.90\t Grades : C\n",
      "\n",
      "\n",
      "Class Average : 83.87\n",
      "Class Grades : B\n"
     ]
    }
   ],
   "source": [
    "lloyd = {\n",
    "  \"name\": \"Lloyd\",\n",
    "  \"homework\": [90.0, 97.0, 75.0, 92.0],\n",
    "  \"quizzes\": [88.0, 40.0, 94.0],\n",
    "  \"tests\": [75.0, 90.0]\n",
    "}\n",
    "alice = {\n",
    "  \"name\": \"Alice\",\n",
    "  \"homework\": [100.0, 92.0, 98.0, 100.0],\n",
    "  \"quizzes\": [82.0, 83.0, 91.0],\n",
    "  \"tests\": [89.0, 97.0]\n",
    "}\n",
    "tyler = {\n",
    "  \"name\": \"Tyler\",\n",
    "  \"homework\": [0.0, 87.0, 75.0, 22.0],\n",
    "  \"quizzes\": [0.0, 75.0, 78.0],\n",
    "  \"tests\": [100.0, 100.0]\n",
    "}\n",
    "\n",
    "# Add your function below!\n",
    "def average(numbers):\n",
    "    total = sum(numbers)\n",
    "    total = float(total)\n",
    "    return total/len(numbers)\n",
    "\n",
    "def get_average(student):\n",
    "    homework = average(student[\"homework\"])\n",
    "    quizzes = average(student[\"quizzes\"])\n",
    "    tests = average(student[\"tests\"])\n",
    "    return 0.1 * homework + 0.3 * quizzes + 0.6 * tests\n",
    "\n",
    "def get_letter_grade(score):\n",
    "    if score >= 90:\n",
    "        return \"A\"\n",
    "    elif score >=80:\n",
    "        return \"B\"\n",
    "    elif score >=70:\n",
    "        return \"C\"\n",
    "    elif score >=60:\n",
    "        return \"D\"\n",
    "    else:\n",
    "        return \"F\"\n",
    "def get_class_average(class_list):\n",
    "    results = []\n",
    "    for student in class_list:\n",
    "        student_avg = get_average(student)\n",
    "        results.append(student_avg)\n",
    "    return average(results) \n",
    "\n",
    "def get_student_grade_info(students):\n",
    "    print (\"--------------------------------------------\")\n",
    "    for student in students:\n",
    "        print((\"Students Name : %s\\t Avg : %.2f\\t Grades : %s\\n\") % (student[\"name\"],get_average(student),get_letter_grade(get_average(student))))\n",
    " \n",
    "\n",
    "\n",
    "students = [lloyd,alice,tyler]\n",
    "\n",
    "get_student_grade_info(students)\n",
    "\n",
    "print()\n",
    "\n",
    "print ((\"Class Average : %.2f\\nClass Grades : %s\") %(get_class_average(students),get_letter_grade(get_class_average(students))))"
   ]
  },
  {
   "cell_type": "markdown",
   "metadata": {},
   "source": [
    "# BattelShip"
   ]
  },
  {
   "cell_type": "code",
   "execution_count": 2,
   "metadata": {},
   "outputs": [
    {
     "ename": "IndentationError",
     "evalue": "expected an indented block (<ipython-input-2-4dfb074f2db2>, line 15)",
     "output_type": "error",
     "traceback": [
      "\u001b[1;36m  File \u001b[1;32m\"<ipython-input-2-4dfb074f2db2>\"\u001b[1;36m, line \u001b[1;32m15\u001b[0m\n\u001b[1;33m    return randint(0, len(board) - 1)\u001b[0m\n\u001b[1;37m         ^\u001b[0m\n\u001b[1;31mIndentationError\u001b[0m\u001b[1;31m:\u001b[0m expected an indented block\n"
     ]
    }
   ],
   "source": [
    "from random import randint\n",
    "\n",
    "board = []\n",
    "\n",
    "for x in range(0, 5):\n",
    "    board.append([\"O\"] * 5)\n",
    "\n",
    "def print_board(board):\n",
    "    for row in board:\n",
    "        print (\" \".join(row))\n",
    "\n",
    "#print_board(board)\n",
    "\n",
    "def random_row(board):\n",
    "    return randint(0, len(board) - 1)\n",
    "\n",
    "def random_col(board):\n",
    "    return randint(0, len(board[0]) - 1)\n",
    "\n",
    "ship_row = random_row(board)\n",
    "ship_col = random_col(board)\n",
    "print (ship_row)\n",
    "print (ship_col)\n",
    "\n",
    "# Everything from here on should be in your for loop\n",
    "# don't forget to properly indent!\n",
    "for turn in range(4):\n",
    "    print_board(board)\n",
    "    print (\"Turn\", turn + 1)\n",
    "    guess_row = int(input(\"Guess Row: \"))\n",
    "    guess_col = int(input(\"Guess Col: \"))\n",
    "    if guess_row == ship_row and guess_col == ship_col:\n",
    "        print (\"Congratulations! You sank my battleship!\")\n",
    "        break\n",
    "    else:\n",
    "        if guess_row not in range(5) or guess_col not in range(5):\n",
    "            print (\"Oops, that's not even in the ocean.\")\n",
    "        elif board[guess_row][guess_col] == \"X\":\n",
    "            print( \"You guessed that one already.\" )\n",
    "        else:\n",
    "            print (\"You missed my battleship!\")\n",
    "            board[guess_row][guess_col] = \"X\"\n",
    "    turn += 1\n",
    "    if turn == 3:\n",
    "        print (\"Game Over\")\n",
    "        print_board(board)\n",
    "        break"
   ]
  },
  {
   "cell_type": "markdown",
   "metadata": {},
   "source": [
    "# Number Guessing"
   ]
  },
  {
   "cell_type": "code",
   "execution_count": 38,
   "metadata": {},
   "outputs": [
    {
     "name": "stdout",
     "output_type": "stream",
     "text": [
      "Enter the guess : 5\n",
      "Enter the guess : 5\n",
      "Enter the guess : 1\n",
      "Sorry, you lose!\n"
     ]
    }
   ],
   "source": [
    "from random import randint\n",
    "\n",
    "# Generates a number from 1 through 10 inclusive\n",
    "random_number = randint(1, 10)\n",
    "\n",
    "guesses_left = 3\n",
    "# Start your game!\n",
    "while guesses_left > 0:\n",
    "    # print (random_number)\n",
    "    guess = int(input(\"Enter the guess : \"))  \n",
    "    guesses_left -= 1\n",
    "    if guess == random_number:\n",
    "        print (\"You win!\")\n",
    "        break\n",
    "else:\n",
    "    print (\"Sorry, you lose!\")"
   ]
  },
  {
   "cell_type": "markdown",
   "metadata": {},
   "source": [
    "# Reverse string"
   ]
  },
  {
   "cell_type": "code",
   "execution_count": 49,
   "metadata": {},
   "outputs": [
    {
     "name": "stdout",
     "output_type": "stream",
     "text": [
      "dcba\n"
     ]
    }
   ],
   "source": [
    "def reverse(text):\n",
    "    word = \"\"\n",
    "    l = len(text) - 1\n",
    "    while l >= 0:\n",
    "        word = word + text[l]\n",
    "        l -= 1\n",
    "    return word\n",
    "\n",
    "print ( reverse(\"abcd\"))"
   ]
  },
  {
   "cell_type": "markdown",
   "metadata": {},
   "source": [
    "# Remove Vowel"
   ]
  },
  {
   "cell_type": "code",
   "execution_count": 52,
   "metadata": {},
   "outputs": [
    {
     "name": "stdout",
     "output_type": "stream",
     "text": [
      "hey you!\n",
      "Hy y!\n"
     ]
    }
   ],
   "source": [
    "def anti_vowel(text):\n",
    "    newtext = text.lower()\n",
    "    print(newtext)\n",
    "    word = \"\"\n",
    "    l = 0\n",
    "    while l < len(text):\n",
    "        if newtext[l] != 'a' and newtext[l] != 'e' and newtext[l] != 'i' and newtext[l] != 'o' and newtext[l] != 'u':\n",
    "            word = word + text[l]\n",
    "            l += 1\n",
    "        else:\n",
    "            l += 1\n",
    "    return word\n",
    "  \n",
    "print(anti_vowel(\"Hey you!\"))"
   ]
  },
  {
   "cell_type": "markdown",
   "metadata": {},
   "source": [
    "# Word Scrabble"
   ]
  },
  {
   "cell_type": "code",
   "execution_count": 56,
   "metadata": {},
   "outputs": [
    {
     "name": "stdout",
     "output_type": "stream",
     "text": [
      "8\n"
     ]
    }
   ],
   "source": [
    "score = {\"a\": 1, \"c\": 3, \"b\": 3, \"e\": 1, \"d\": 2, \"g\": 2, \n",
    "         \"f\": 4, \"i\": 1, \"h\": 4, \"k\": 5, \"j\": 8, \"m\": 3, \n",
    "         \"l\": 1, \"o\": 1, \"n\": 1, \"q\": 10, \"p\": 3, \"s\": 1, \n",
    "         \"r\": 1, \"u\": 1, \"t\": 1, \"w\": 4, \"v\": 4, \"y\": 4, \n",
    "         \"x\": 8, \"z\": 10}\n",
    "         \n",
    "def scrabble_score(word):\n",
    "    word = word.lower()\n",
    "    total = 0\n",
    "    for letter in word:\n",
    "        for leter in score:\n",
    "            if letter == leter:\n",
    "                total = total + score[leter]\n",
    "    return total\n",
    "\n",
    "print(scrabble_score(\"Hello\"))"
   ]
  },
  {
   "cell_type": "markdown",
   "metadata": {},
   "source": [
    "# Censor words"
   ]
  },
  {
   "cell_type": "code",
   "execution_count": 10,
   "metadata": {},
   "outputs": [
    {
     "name": "stdout",
     "output_type": "stream",
     "text": [
      "hi my name is **** . **** is my hobby. \n"
     ]
    }
   ],
   "source": [
    "def censor(text,word):\n",
    "    lists = text.split()\n",
    "   #print(lists)\n",
    "    newtext = \"\"\n",
    "    for words in lists:\n",
    "        if words.lower() == word:\n",
    "            newtext += \"*\"*4+ \" \"\n",
    "        else:\n",
    "            newtext += words + \" \"\n",
    "    return newtext\n",
    "\n",
    "print(censor(\"hi my name is hack .  Hack is my hobby.\",\"hack\"))"
   ]
  },
  {
   "cell_type": "markdown",
   "metadata": {},
   "source": [
    "# Number count"
   ]
  },
  {
   "cell_type": "code",
   "execution_count": 70,
   "metadata": {},
   "outputs": [
    {
     "name": "stdout",
     "output_type": "stream",
     "text": [
      "2\n"
     ]
    }
   ],
   "source": [
    "def count(sequence,item):\n",
    "    count = 0\n",
    "    for number in sequence:\n",
    "        if number == item:\n",
    "            count += 1\n",
    "    return count\n",
    "\n",
    "print(count([1,2,1,2,4],1))"
   ]
  },
  {
   "cell_type": "markdown",
   "metadata": {},
   "source": [
    "# Purify Even Or Odd numbers"
   ]
  },
  {
   "cell_type": "code",
   "execution_count": 71,
   "metadata": {},
   "outputs": [
    {
     "name": "stdout",
     "output_type": "stream",
     "text": [
      "[2, 4]\n"
     ]
    }
   ],
   "source": [
    "def purify(lists):\n",
    "    newlist = []\n",
    "    for i in lists:\n",
    "        if i%2 == 0:\n",
    "            newlist.append(i)\n",
    "    return newlist\n",
    "\n",
    "print(purify([1,2,3,4,5]))"
   ]
  },
  {
   "cell_type": "markdown",
   "metadata": {},
   "source": [
    "# Product"
   ]
  },
  {
   "cell_type": "code",
   "execution_count": 7,
   "metadata": {},
   "outputs": [
    {
     "name": "stdout",
     "output_type": "stream",
     "text": [
      "product :  100\n"
     ]
    }
   ],
   "source": [
    "def product(lists):\n",
    "    num_multiply = 1\n",
    "    for i in lists:\n",
    "        num_multiply *= i\n",
    "    return num_multiply\n",
    "\n",
    "print(\"product : \",product([4,5,5]))"
   ]
  },
  {
   "cell_type": "markdown",
   "metadata": {},
   "source": [
    "# Remove Duplicate"
   ]
  },
  {
   "cell_type": "code",
   "execution_count": 37,
   "metadata": {},
   "outputs": [
    {
     "name": "stdout",
     "output_type": "stream",
     "text": [
      "Duplicate Removed :  [1, 2, 3]\n"
     ]
    }
   ],
   "source": [
    "def remove_duplicates(inputlist):\n",
    "    if inputlist == []:\n",
    "        return []\n",
    "    \n",
    "# Sort the input list from low to high    \n",
    "    inputlist = sorted(inputlist)\n",
    "# Initialize the output list, and give it the first value of the now-sorted input list\n",
    "    outputlist = [inputlist[0]]\n",
    "# Go through the values of the sorted list and append to the output list\n",
    "# ...any values that are greater than the last value of the output list\n",
    "    for i in inputlist:\n",
    "        if i > outputlist[-1]:\n",
    "            outputlist.append(i)\n",
    "            # gives the last index of outputlist\n",
    "            # print(outputlist[-1])\n",
    "    return outputlist\n",
    "\n",
    "print(\"Duplicate Removed : \", remove_duplicates([1,1,2,2,3,3]))"
   ]
  },
  {
   "cell_type": "markdown",
   "metadata": {},
   "source": [
    "# Median of numbers"
   ]
  },
  {
   "cell_type": "code",
   "execution_count": 34,
   "metadata": {},
   "outputs": [
    {
     "name": "stdout",
     "output_type": "stream",
     "text": [
      "Median :  4.5\n"
     ]
    }
   ],
   "source": [
    "def median(number_list):\n",
    "    number_list = sorted(number_list)\n",
    "    l = len(number_list)\n",
    "    if l % 2 == 0:\n",
    "        a = int((l/2)-1)\n",
    "        b = int(l/2)\n",
    "        med = (number_list[a]+number_list[b])/2.0\n",
    "    else:\n",
    "        med = int(l/2)\n",
    "        return number_list[med]\n",
    "    return med\n",
    "\n",
    "print(\"Median : \" ,median([1,4,5,9]))"
   ]
  },
  {
   "cell_type": "markdown",
   "metadata": {},
   "source": [
    "# Calendar Event"
   ]
  },
  {
   "cell_type": "code",
   "execution_count": null,
   "metadata": {},
   "outputs": [],
   "source": [
    "\"\"\"\n",
    "Command Line Calender Program\n",
    "Author: Sumit\n",
    "\"\"\"\n",
    "import sys\n",
    "from time import sleep\n",
    "from time import strftime\n",
    "USER_FIRST_NAME = \"Sumit\"\n",
    "calendar = {}\n",
    "def welcome():\n",
    "    print(\"Welcom, \" + USER_FIRST_NAME + \".\")\n",
    "    print(\"Starting Calendar\")\n",
    "    sleep(1)\n",
    "    print (\"Today is: \" + strftime(\"%A %B %d, %Y\"))\n",
    "    print (\"Time is: \" + strftime(\"%H:%M:%S\"))\n",
    "    print (\"What would you like to do?\")\n",
    "\n",
    "def start_calendar():\n",
    "    welcome()\n",
    "    start = True\n",
    "    while start:\n",
    "        user_choice = input(\"A to Add, U to Update, V to View, D to Delete, X to Exit: \")\n",
    "        user_choice = user_choice.upper()\n",
    "        if user_choice == 'V':\n",
    "            if len(calendar.keys()) < 1:\n",
    "                print (\"Calendar empty.\")\n",
    "            else:\n",
    "                print (calendar)\n",
    "        #break\n",
    "        elif user_choice == 'U':\n",
    "            date = input(\"What date?\")\n",
    "            update = input(\"Enter the update: \")\n",
    "            calendar[date] = update\n",
    "            print (\"Date Updated\")\n",
    "            print (calendar)\n",
    "        #break\n",
    "        elif user_choice == 'A':\n",
    "            event = input(\"Enter the Event: \")\n",
    "            date = input(\"Enter date(MM/DD/YYYY): \")\n",
    "            if len(date) > 10 or int(date[6:])< int(strftime(\"%Y\")):\n",
    "                print (\"Wrong Date Entered\")\n",
    "                try_again = raw_input(\"Try Again? Y for Yes, N for No: \")\n",
    "                try_again = try_again.upper()\n",
    "                if try_again == 'Y':\n",
    "                    continue\n",
    "                else:\n",
    "                    start = False\n",
    "            else:\n",
    "                calendar[date] = event\n",
    "                print (\"Event Added Successfully\")\n",
    "                print (calendar)\n",
    "        #break\n",
    "        elif user_choice == 'D':\n",
    "            if len(calendar.keys()) < 1:\n",
    "                print (\"Calendar empty.\")\n",
    "            else:\n",
    "                event = input(\"Enter the event to delete: \")\n",
    "                for date in calendar.keys():\n",
    "                    if event == calendar[date]:\n",
    "                        del(calendar[date])\n",
    "                        print (\"Event Deleted Successfully\")\n",
    "                        print (calendar)\n",
    "                    else:\n",
    "                        print (\"Event not found Try Again\")\n",
    "        #break\n",
    "        elif user_choice == 'X':\n",
    "            break\n",
    "        else:\n",
    "            print (\"Invalid Choice\")\n",
    "            break\n",
    "start_calendar()"
   ]
  },
  {
   "cell_type": "markdown",
   "metadata": {},
   "source": [
    "# Grade Varience"
   ]
  },
  {
   "cell_type": "code",
   "execution_count": 8,
   "metadata": {},
   "outputs": [
    {
     "name": "stdout",
     "output_type": "stream",
     "text": [
      "Grades : \n",
      "100\n",
      "100\n",
      "90\n",
      "40\n",
      "80\n",
      "100\n",
      "85\n",
      "70\n",
      "90\n",
      "65\n",
      "90\n",
      "85\n",
      "50.5\n",
      "Sum of Grades :  1045.5\n",
      "Average of Grades : 80.42\n",
      "Variance 334.07\n",
      "Standard Varience : 18.28\n"
     ]
    }
   ],
   "source": [
    "grades = [100, 100, 90, 40, 80, 100, 85, 70, 90, 65, 90, 85, 50.5]\n",
    "\n",
    "def print_grades(grades_input):\n",
    "    for grade in grades_input:\n",
    "        print (grade)\n",
    "\n",
    "def grades_sum(scores):\n",
    "    total = 0\n",
    "    for score in scores: \n",
    "        total += score\n",
    "    return total\n",
    "    \n",
    "def grades_average(grades_input):\n",
    "    sum_of_grades = grades_sum(grades_input)\n",
    "    average = sum_of_grades / float(len(grades_input))\n",
    "    return average\n",
    "\n",
    "\n",
    "\n",
    "def grades_variance(scores):\n",
    "    average = grades_average(scores)\n",
    "    variance = 0\n",
    "    for score in scores:\n",
    "        variance += (average - score) ** 2\n",
    "    return variance/float(len(scores))\n",
    "\n",
    "def grades_std_deviation(varience):\n",
    "    return varience ** 0.5\n",
    "\n",
    "print (\"Grades : \")\n",
    "print_grades(grades)\n",
    "print (\"Sum of Grades : \" , grades_sum(grades))\n",
    "print (\"Average of Grades : %.2f\" % grades_average(grades))\n",
    "print (\"Variance %.2f\" % grades_variance(grades))\n",
    "print (\"Standard Varience : %.2f\" % grades_std_deviation(grades_variance(grades)))"
   ]
  },
  {
   "cell_type": "markdown",
   "metadata": {},
   "source": [
    "# List Comprehensive Syntax"
   ]
  },
  {
   "cell_type": "code",
   "execution_count": 9,
   "metadata": {
    "scrolled": true
   },
   "outputs": [
    {
     "name": "stdout",
     "output_type": "stream",
     "text": [
      "[4, 16, 36, 64, 100]\n"
     ]
    }
   ],
   "source": [
    "doubles_by_3 = [x * 2 for x in range(1, 6) if (x * 2) % 3 == 0]\n",
    "\n",
    "# Complete the following line. Use the line above for help.\n",
    "even_squares = [x**2 for x in range(1,11) if (x % 2)==0]\n",
    "\n",
    "print (even_squares)"
   ]
  },
  {
   "cell_type": "markdown",
   "metadata": {},
   "source": [
    "# RGB to HEX"
   ]
  },
  {
   "cell_type": "code",
   "execution_count": 3,
   "metadata": {},
   "outputs": [
    {
     "name": "stdout",
     "output_type": "stream",
     "text": [
      "Enter 1 to convert RGB to HEX. Enter 2 to convert HEX to RGB. Enter X to Exit: 1\n",
      "RGB to HEX: \n",
      "Red Value: 32\n",
      "Green Value: 32\n",
      "Blue Value: 32\n",
      "202020\n",
      "Enter 1 to convert RGB to HEX. Enter 2 to convert HEX to RGB. Enter X to Exit: 1\n",
      "RGB to HEX: \n",
      "Red Value: 0\n",
      "Green Value: 0\n",
      "Blue Value: 0\n",
      "0\n",
      "Enter 1 to convert RGB to HEX. Enter 2 to convert HEX to RGB. Enter X to Exit: 1\n",
      "RGB to HEX: \n",
      "Red Value: 1\n",
      "Green Value: 1\n",
      "Blue Value: 1\n",
      "10101\n",
      "Enter 1 to convert RGB to HEX. Enter 2 to convert HEX to RGB. Enter X to Exit: x\n"
     ]
    }
   ],
   "source": [
    "def rgb_hex():\n",
    "    invalid_msg = \"Invalid Entry\"\n",
    "    red = int(input(\"Red Value: \"))\n",
    "    if ((red < 0) or red > 255):\n",
    "        print (invalid_msg)\n",
    "        return\n",
    "    green = int(input(\"Green Value: \"))\n",
    "    if (green < 0 or green > 255):\n",
    "        print (invalid_msg)\n",
    "        return\n",
    "    blue = int(input(\"Blue Value: \"))\n",
    "    if (blue < 0 or blue > 255):\n",
    "        print (invalid_msg)\n",
    "        return\n",
    "    val = (red << 16) + (green << 8) + blue\n",
    "    print ((\"%s\") % (hex(val)[2:]).upper())\n",
    "\n",
    "def hex_rgb():\n",
    "    hex_val = input(\"HEX Value: \")\n",
    "    if len(hex_val) != 6:\n",
    "        print (\"Invalid Entry\")\n",
    "        return\n",
    "    else:\n",
    "        hex_val = int(hex_val, 16)\n",
    "        two_hex_digits = 2 ** 8\n",
    "        blue = hex_val % two_hex_digits\n",
    "        hex_val = hex_val >> 8\n",
    "        green = hex_val % two_hex_digits\n",
    "        hex_val = hex_val >> 8\n",
    "        red = hex_val % two_hex_digits\n",
    "        print ((\"Red: %s Green: %s Blue: %s\") % (red, green, blue))\n",
    "    \n",
    "def convert():\n",
    "    while True:\n",
    "        option = input(\"Enter 1 to convert RGB to HEX. Enter 2 to convert HEX to RGB. Enter X to Exit: \").upper()\n",
    "        if option == \"1\":\n",
    "            print (\"RGB to HEX: \")\n",
    "            rgb_hex()\n",
    "        elif option == \"2\":\n",
    "            print (\"HEX to RGB: \")\n",
    "            hex_rgb()\n",
    "        elif option == \"X\":\n",
    "            break\n",
    "        else:\n",
    "            print (\"Invalid Entry\")\n",
    "convert()"
   ]
  },
  {
   "cell_type": "markdown",
   "metadata": {},
   "source": [
    "# DNA Analysis"
   ]
  },
  {
   "cell_type": "code",
   "execution_count": 5,
   "metadata": {},
   "outputs": [
    {
     "name": "stdout",
     "output_type": "stream",
     "text": [
      "There were only 2 codon matches in suspect1.txt. As the dna test clears this suspect of any allegations they can be freed\n",
      "There were 6 codon matches in suspect2.txt. Further investigation should be done\n",
      "There were only 1 codon matches in suspect3.txt. As the dna test clears this suspect of any allegations they can be freed\n"
     ]
    }
   ],
   "source": [
    "sample = ['GTA','GGG','CAC']\n",
    "\n",
    "def read_dna(dna_file):\n",
    "    dna_data = \"\"\n",
    "    with open(dna_file, \"r\") as f:\n",
    "        for line in f:\n",
    "            dna_data += line\n",
    "    return dna_data\n",
    "\n",
    "def dna_codons(dna):\n",
    "    codons = []\n",
    "    for i in range(0, len(dna), 3):\n",
    "        if (i + 3) < len(dna):\n",
    "            codons.append(dna[i:(i + 3)])\n",
    "    return codons\n",
    "\n",
    "def match_dna(dna):\n",
    "    matches = 0\n",
    "    for codon in dna:\n",
    "        if codon in sample:\n",
    "            matches += 1\n",
    "    return matches\n",
    "\n",
    "def is_criminal(dna_sample):\n",
    "    dna_data = read_dna(dna_sample)\n",
    "    codons = dna_codons(dna_data)\n",
    "    num_matches = match_dna(codons)\n",
    "    if num_matches >= 3:\n",
    "        print((\"There were %d codon matches in %s. Further investigation should be done\") %(num_matches, dna_sample))\n",
    "    else:\n",
    "        print((\"There were only %d codon matches in %s. As the dna test clears this suspect of any allegations they can be freed\") % (num_matches, dna_sample))\n",
    "    \n",
    "is_criminal('suspect1.txt')\n",
    "is_criminal('suspect2.txt')\n",
    "is_criminal('suspect3.txt')  "
   ]
  },
  {
   "cell_type": "markdown",
   "metadata": {},
   "source": [
    "# Inheritance Basics"
   ]
  },
  {
   "cell_type": "code",
   "execution_count": 3,
   "metadata": {},
   "outputs": [
    {
     "name": "stdout",
     "output_type": "stream",
     "text": [
      "new\n",
      "like new\n"
     ]
    }
   ],
   "source": [
    "class Car(object):\n",
    "    condition = \"new\"\n",
    "    def __init__(self, model, color, mpg):\n",
    "        self.model = model\n",
    "        self.color = color\n",
    "        self.mpg   = mpg\n",
    "   \n",
    "    def display_car(self):\n",
    "        print ((\"This is a %s %s with %s MPG.\") % (self.color, self.model, str(self.mpg)))\n",
    "    \n",
    "    def drive_car(self):\n",
    "        self.condition = \"used\"\n",
    "    \n",
    "class ElectricCar(Car):\n",
    "    def __init__(self, model, color, mpg, battery_type):\n",
    "        super(ElectricCar, self).__init__(model, color, mpg)\n",
    "        self.battery_type = battery_type\n",
    "    \n",
    "    def drive_car(self):\n",
    "        self.condition = \"like new\"\n",
    "\n",
    "my_car = ElectricCar(\"DeLorean\", \"silver\", 88, \"molten salt\")\n",
    "\n",
    "print (my_car.condition)\n",
    "my_car.drive_car()\n",
    "print (my_car.condition)"
   ]
  },
  {
   "cell_type": "markdown",
   "metadata": {},
   "source": [
    "# Bank Account"
   ]
  },
  {
   "cell_type": "code",
   "execution_count": 4,
   "metadata": {},
   "outputs": [
    {
     "name": "stdout",
     "output_type": "stream",
     "text": [
      "Anton's account. Balance:$0.00\n",
      "Amount deposited: $2000.00\n",
      "Anton's account. Balance:$2000.00\n",
      "Withdrawing: 1000.00\n",
      "Anton's account. Balance:$1000.00\n",
      "Anton's account. Balance:$1000.00\n"
     ]
    }
   ],
   "source": [
    "\"\"\"Bank account with classes\"\"\"\n",
    "class BankAccount(object):\n",
    "    balance = 0\n",
    "    def __init__(self, name):\n",
    "        self.name = name\n",
    "    def __repr__(self):\n",
    "        return \"%s's account. Balance: $%.2f\" % (self.name, self.balance)\n",
    "    def show_balance(self):\n",
    "        print (\"%s's account. Balance:$%.2f\" % (self.name, self.balance))\n",
    "    def   deposit(self, amount):\n",
    "        if amount <=0:\n",
    "            print (\"You have no money\")\n",
    "            return\n",
    "        else:\n",
    "            print (\"Amount deposited: $%.2f\" % amount)\n",
    "        self.balance += amount\n",
    "        self.show_balance()\n",
    "    def withdraw(self, amount):\n",
    "        if amount > self.balance:\n",
    "            print (\" You can't do that\")\n",
    "            return\n",
    "        else:\n",
    "            print (\"Withdrawing: %.2f\" % (amount))\n",
    "        self.balance -= amount\n",
    "        self.show_balance()\n",
    "my_account = BankAccount(\"Anton\")\n",
    "my_account.show_balance()\n",
    "my_account.deposit(2000)\n",
    "my_account.withdraw(1000)\n",
    "my_account.show_balance()"
   ]
  },
  {
   "cell_type": "code",
   "execution_count": 2,
   "metadata": {},
   "outputs": [
    {
     "ename": "ModuleNotFoundError",
     "evalue": "No module named 'cv2'",
     "output_type": "error",
     "traceback": [
      "\u001b[1;31m---------------------------------------------------------------------------\u001b[0m",
      "\u001b[1;31mModuleNotFoundError\u001b[0m                       Traceback (most recent call last)",
      "\u001b[1;32m<ipython-input-2-0cab5cf90ebe>\u001b[0m in \u001b[0;36m<module>\u001b[1;34m()\u001b[0m\n\u001b[1;32m----> 1\u001b[1;33m \u001b[1;32mimport\u001b[0m \u001b[0mcv2\u001b[0m\u001b[1;33m\u001b[0m\u001b[0m\n\u001b[0m\u001b[0;32m      2\u001b[0m \u001b[1;32mimport\u001b[0m \u001b[0mnumpy\u001b[0m \u001b[1;32mas\u001b[0m \u001b[0mnp\u001b[0m\u001b[1;33m\u001b[0m\u001b[0m\n\u001b[0;32m      3\u001b[0m \u001b[1;32mimport\u001b[0m \u001b[0mmatplotlib\u001b[0m\u001b[1;33m.\u001b[0m\u001b[0mpyplot\u001b[0m \u001b[1;32mas\u001b[0m \u001b[0mplt\u001b[0m\u001b[1;33m\u001b[0m\u001b[0m\n\u001b[0;32m      4\u001b[0m \u001b[1;33m\u001b[0m\u001b[0m\n\u001b[0;32m      5\u001b[0m \u001b[1;31m# Feature set containing (x,y) values of 25 known/training data\u001b[0m\u001b[1;33m\u001b[0m\u001b[1;33m\u001b[0m\u001b[0m\n",
      "\u001b[1;31mModuleNotFoundError\u001b[0m: No module named 'cv2'"
     ]
    }
   ],
   "source": [
    "import cv2\n",
    "import numpy as np\n",
    "import matplotlib.pyplot as plt\n",
    "\n",
    "# Feature set containing (x,y) values of 25 known/training data\n",
    "trainData = np.random.randint(0, 100, (25, 2)).astype(np.float32)\n",
    "\n",
    "# Labels each one either Red or Blue with numbers 0 and 1\n",
    "responses = np.random.randint(0, 2, (25, 1)).astype(np.float32)\n",
    "\n",
    "# plot Reds\n",
    "red = trainData[responses.ravel() == 0]\n",
    "plt.scatter(red[:, 0], red[:, 1], 80, 'r', '^')\n",
    "\n",
    "# plot Blues\n",
    "blue = trainData[responses.ravel() == 1]\n",
    "plt.scatter(blue[:, 0], blue[:, 1], 80, 'b', 's')\n",
    "\n",
    "# CvKNearest instance\n",
    "knn = cv2.KNearest()\n",
    "\n",
    "# trains the model\n",
    "knn.train(trainData, responses)\n",
    "\n",
    "# New sample : (x,y)\n",
    "newcomer = np.random.randint(0, 100, (1, 2)).astype(np.float32)\n",
    "plt.scatter(newcomer[:, 0], newcomer[:, 1], 80, 'g', 'o')\n",
    "\n",
    "# Finds the 3nearest  neighbors and predicts responses for input vectors\n",
    "ret, results, neighbours, dist = knn.find_nearest(newcomer, 3)\n",
    "\n",
    "# print(\"result: \", results,\"\\n\")\n",
    "# print \"neighbours: \", neighbours,\"\\n\"\n",
    "# print \"distance: \", dist\n",
    "\n",
    "plt.show()"
   ]
  },
  {
   "cell_type": "code",
   "execution_count": null,
   "metadata": {},
   "outputs": [],
   "source": [
    "class Person:\n",
    "    __addhar_id = 0\n",
    "    __full_name = \"\"\n",
    "\n",
    "    def __init__(self):\n",
    "        try:\n",
    "            self.__addhar_id = int(input(\"Enter your addhar id:\"))\n",
    "            self.__full_name = input(\"Enter your addhar name:\")\n",
    "        except:\n",
    "            print(\"addhar id must be numbers\")\n",
    "\n",
    "    def get_addhar(self):\n",
    "        return self.__addhar_id\n",
    "\n",
    "    def get_full_name(self):\n",
    "        return self.__full_name\n",
    "\n",
    "    def __repr__(self):\n",
    "        return str(self.__addhar_id) + str(\" \") + self.__full_name\n",
    "\n",
    "\n",
    "class Student(Person):\n",
    "    __std = 0\n",
    "\n",
    "    def __init__(self):\n",
    "        super(Student, self).__init__()\n",
    "        try:\n",
    "            self.__std = int(input(\"Enter your std no:\"))\n",
    "        except:\n",
    "            print(\"std id must be numbers\")\n",
    "\n",
    "    def __repr__(self):\n",
    "        return super(Student, self).__repr__() + str(\" \") + str(self.__std)\n",
    "\n",
    "\n",
    "def search_student(l, student):\n",
    "    if isinstance(l, list) and isinstance(student, Student):\n",
    "        for i in l:\n",
    "            if i.get_addhar() == student.get_addhar():\n",
    "                return True\n",
    "        return False\n",
    "\n",
    "\n",
    "def main():\n",
    "    student_list = []\n",
    "    list_length = int(input(\"Enter how many student you want to add:\"))\n",
    "    for i in range(0, list_length):\n",
    "        s = Student()\n",
    "        while True:\n",
    "            if search_student(student_list, s):\n",
    "                print(\"Enter the student again.\")\n",
    "                s = Student()\n",
    "            else:\n",
    "                student_list.append(s)\n",
    "                break\n",
    "\n",
    "    for i in student_list:\n",
    "        print(i)\n",
    "\n",
    "\n",
    "main()"
   ]
  },
  {
   "cell_type": "code",
   "execution_count": null,
   "metadata": {},
   "outputs": [],
   "source": [
    "class Person:\n",
    "    __addhar_id = 0\n",
    "    __full_name = \"\"\n",
    "\n",
    "    def __init__(self):\n",
    "        try:\n",
    "            self.__addhar_id = int(input(\"Enter your addhar id:\"))\n",
    "            self.__full_name = input(\"Enter your addhar name:\")\n",
    "        except:\n",
    "            print(\"addhar id must be numbers\")\n",
    "\n",
    "    def get_addhar(self):\n",
    "        return self.__addhar_id\n",
    "\n",
    "    def get_full_name(self):\n",
    "        return self.__full_name\n",
    "\n",
    "    def __repr__(self):\n",
    "        return str(self.__addhar_id) + str(\" \") + self.__full_name\n",
    "\n",
    "\n",
    "class Student(Person):\n",
    "    __std = 0\n",
    "\n",
    "    def __init__(self):\n",
    "        super(Student, self).__init__()\n",
    "        try:\n",
    "            self.__std = int(input(\"Enter your std no:\"))\n",
    "        except:\n",
    "            print(\"std id must be numbers\")\n",
    "\n",
    "    def __repr__(self):\n",
    "        return super(Student, self).__repr__() + str(\" \") + str(self.__std)\n",
    "\n",
    "\n",
    "class Employ(Person):\n",
    "    __emp_no = 0\n",
    "\n",
    "    def __init__(self):\n",
    "        super(Employ, self).__init__()\n",
    "        try:\n",
    "            self.__emp_no = int(input(\"Enter Your Employ No:\"))\n",
    "        except:\n",
    "            print(\"emp_no must be numbers\")\n",
    "\n",
    "    def __repr__(self):\n",
    "        return super(Employ, self).__repr__() + str(\" \") + str(self.__emp_no)\n",
    "\n",
    "\n",
    "def search(l, obj):\n",
    "    if isinstance(l, list) and isinstance(obj, Person):\n",
    "        for i in l:\n",
    "            if i.get_addhar() == obj.get_addhar():\n",
    "                return True\n",
    "        return False\n",
    "\n",
    "\n",
    "def insert_list(l):\n",
    "    list_length = int(input(\"Enter how many data you want to add:\"))\n",
    "    for i in range(0, list_length):\n",
    "        s = Student()\n",
    "        while True:\n",
    "            if search(l, s):\n",
    "                print(\"Enter the student again.\")\n",
    "                s = Student()\n",
    "            else:\n",
    "                l.append(s)\n",
    "                break\n",
    "\n",
    "\n",
    "def insert_empl(l):\n",
    "    list_length = int(input(\"Enter how many data you want to add:\"))\n",
    "    for i in range(0, list_length):\n",
    "        s = Employ()\n",
    "        while True:\n",
    "            if search(l, s):\n",
    "                print(\"Enter the Employee again.\")\n",
    "                s = Employ()\n",
    "            else:\n",
    "                l.append(s)\n",
    "                break\n",
    "\n",
    "\n",
    "def display_list(l):\n",
    "    for i in l:\n",
    "        print(i)\n",
    "\n",
    "\n",
    "def main():\n",
    "    student_list = []\n",
    "    employ_list = []\n",
    "    choice = int(input(\"Enter the list you want to create:\\n1. Employee Data\\n2. Student Data\"))\n",
    "    if choice == 1:\n",
    "        insert_empl(employ_list)\n",
    "        display_list(employ_list)\n",
    "        return\n",
    "    elif choice == 2:\n",
    "        insert_list(student_list)\n",
    "        display_list(student_list)\n",
    "        return\n",
    "    else:\n",
    "        print(\"Invalid Choice\")\n",
    "\n",
    "\n",
    "main()\n"
   ]
  }
 ],
 "metadata": {
  "celltoolbar": "Raw Cell Format",
  "kernelspec": {
   "display_name": "Python 3",
   "language": "python",
   "name": "python3"
  },
  "language_info": {
   "codemirror_mode": {
    "name": "ipython",
    "version": 3
   },
   "file_extension": ".py",
   "mimetype": "text/x-python",
   "name": "python",
   "nbconvert_exporter": "python",
   "pygments_lexer": "ipython3",
   "version": "3.6.4"
  },
  "widgets": {
   "application/vnd.jupyter.widget-state+json": {
    "state": {},
    "version_major": 2,
    "version_minor": 0
   }
  }
 },
 "nbformat": 4,
 "nbformat_minor": 2
}
