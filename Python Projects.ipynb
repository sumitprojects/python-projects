{
 "cells": [
  {
   "cell_type": "markdown",
   "metadata": {},
   "source": [
    "# Area Calculator"
   ]
  },
  {
   "cell_type": "code",
   "execution_count": 14,
   "metadata": {},
   "outputs": [
    {
     "name": "stdout",
     "output_type": "stream",
     "text": [
      "Starting the calculator...\n",
      "Enter C for Circle or T for Triangle: t\n",
      "Enter base: 55\n",
      "Enter height: 5\n",
      "Area: 137.500000\n"
     ]
    }
   ],
   "source": [
    "\"\"\"Area Calculator\"\"\"\n",
    "\n",
    "import sys\n",
    "\n",
    "# program starts here\n",
    "print (\"Starting the calculator...\")\n",
    "# input option\n",
    "option = input(\"Enter C for Circle or T for Triangle: \")\n",
    "if option == 'C' or option == 'c':\n",
    "    # area for the circle calculated here\n",
    "    radius = float(input(\"Enter radius: \"))\n",
    "    area = 3.14159 * radius**2\n",
    "    print ((\"Area: %f\") % (area))\n",
    "elif option == 'T' or option == 't':\n",
    "  #\tarea for the triangle calculated here \n",
    "    base = float(input(\"Enter base: \"))\n",
    "    height = float(input(\"Enter height: \"))\n",
    "    area = 0.5 * (base * height)\n",
    "    print ((\"Area: %f\") % (area))\n",
    "else:\n",
    "    # wrong choice selection error\n",
    "    print (\"You have entered wrong choice\")"
   ]
  },
  {
   "cell_type": "markdown",
   "metadata": {},
   "source": [
    "# The Number Guess"
   ]
  },
  {
   "cell_type": "code",
   "execution_count": 17,
   "metadata": {},
   "outputs": [
    {
     "name": "stdout",
     "output_type": "stream",
     "text": [
      "Enter your Guess: 5\n",
      "Rolling...\n",
      "The 1st roll is: 1\n",
      "The 2nd roll is: 3\n",
      "Result...\n",
      "You lost\n"
     ]
    }
   ],
   "source": [
    "\"\"\"The Number Guess\"\"\"\n",
    "import sys\n",
    "from random import randint\n",
    "from time import sleep\n",
    "\n",
    "def get_user_guess():\n",
    "    guess  = int(input(\"Enter your Guess: \"))\n",
    "    return guess\n",
    "\n",
    "def roll_dice(number_of_sides):\n",
    "    guess = get_user_guess()\n",
    "    first_roll = randint(1,number_of_sides)\n",
    "    second_roll = randint(1,number_of_sides)\n",
    "    max_val = number_of_sides * 2\n",
    "    if guess > max_val:\n",
    "        print (\"Not Allowed\")\n",
    "    else:\n",
    "        print (\"Rolling...\")\n",
    "        sleep(2)\n",
    "        print ((\"The 1st roll is: %d\") % (first_roll))\n",
    "        sleep(1)\n",
    "        print ((\"The 2nd roll is: %d\") % (second_roll))\n",
    "        sleep(1)\n",
    "        print (\"Result...\")\n",
    "        sleep(1)\n",
    "        total_roll = first_roll + second_roll\n",
    "        if total_roll == guess:\n",
    "            print (\"You win\")\n",
    "        else:\n",
    "            print (\"You lost\")\n",
    "  \n",
    "roll_dice(6)"
   ]
  },
  {
   "cell_type": "markdown",
   "metadata": {},
   "source": [
    "# Bill Calculator"
   ]
  },
  {
   "cell_type": "code",
   "execution_count": 1,
   "metadata": {},
   "outputs": [
    {
     "name": "stdout",
     "output_type": "stream",
     "text": [
      "For banana only 6 is available\n",
      "want to buy all? Y or N\n",
      "Y\n",
      "apple is not available in our stock\n",
      "31.5\n",
      "{'banana': 0, 'apple': 0, 'orange': 27, 'pear': 15}\n"
     ]
    }
   ],
   "source": [
    "\"\"\"Shopping List Bill Generator\"\"\"\n",
    "import sys\n",
    "\n",
    "shopping_list = {\"banana\" : 8 , \"orange\" : 5, \"apple\" : 1}\n",
    "\n",
    "stock = {\n",
    "  \"banana\": 6,\n",
    "  \"apple\": 0,\n",
    "  \"orange\": 32,\n",
    "  \"pear\": 15\n",
    "}\n",
    "    \n",
    "prices = {\n",
    "  \"banana\": 4,\n",
    "  \"apple\": 2,\n",
    "  \"orange\": 1.5,\n",
    "  \"pear\": 3\n",
    "}\n",
    "\n",
    "# Write your code below!\n",
    "def compute_bill(food):\n",
    "    total = 0\n",
    "    for item in food:\n",
    "            if stock[item] != 0 and stock[item] > food[item]:\n",
    "                stock[item] -= food[item]\n",
    "                total += (prices[item]*food[item])\n",
    "            elif stock[item] < food[item] and stock[item] != 0:\n",
    "                print ((\"For %s only %s is available\") % (item,stock[item]))\n",
    "                choice = input(\"want to buy all? Y or N\\n\")\n",
    "                if choice == \"Y\" or choice == \"y\":\n",
    "                    total += (prices[item]*stock[item])\n",
    "                    stock[item] = 0\n",
    "            else:\n",
    "                print((\"%s is not available in our stock\")% (item))  \n",
    "    return total\n",
    "\n",
    "print (compute_bill(shopping_list))\n",
    "\n",
    "print\n",
    "print\n",
    "\n",
    "print (stock)"
   ]
  },
  {
   "cell_type": "markdown",
   "metadata": {},
   "source": [
    "# Rock, Paper, Scissors"
   ]
  },
  {
   "cell_type": "code",
   "execution_count": 2,
   "metadata": {},
   "outputs": [
    {
     "name": "stdout",
     "output_type": "stream",
     "text": [
      "Enter Rock, Paper, or Scissors: Rock\n",
      "User choice ROCK\n",
      "computer choice SCISSORS\n",
      "Yay you won!\n"
     ]
    }
   ],
   "source": [
    "\"\"\"Rock, Paper, Scissors\"\"\"\n",
    "from random import randint\n",
    "from time import sleep\n",
    "options = [\"ROCK\", \"PAPER\", \"SCISSORS\"]\n",
    "\n",
    "message = {\"tie\" :\"Yawn it's a tie!\",\n",
    "          \t\"won\" : \"Yay you won!\", \n",
    "          \t\"lost\" : \"Aww you lost!\"}\n",
    "\n",
    "def decide_winner(user_choice,computer_choice):\n",
    "    print (\"User choice %s\" % (user_choice))\n",
    "    print (\"computer choice %s\" % (options[computer_choice]))\n",
    "    computer_choice = options[computer_choice]\n",
    "    sleep(2)\n",
    "    if user_choice == computer_choice:\n",
    "        print (\"%s\" % (message[\"tie\"]))\n",
    "    elif user_choice == options[0] and computer_choice == options[2]:\n",
    "        print (\"%s\" % message[\"won\"])\n",
    "    elif user_choice == options[1] and computer_choice==options[0]:\n",
    "        print (\"%s\" % message[\"won\"])\n",
    "    elif user_choice == options[2] and computer_choice == options[1]:\n",
    "        print (message[\"won\"])\n",
    "    else:\n",
    "        print (message[\"lost\"])\n",
    "\n",
    "def play_RPS():\n",
    "    user_choice = input(\"Enter Rock, Paper, or Scissors: \")\n",
    "    user_choice = user_choice.upper()\n",
    "    computer_choice = randint(0,2)\n",
    "    sleep(1)\n",
    "    decide_winner(user_choice,computer_choice)\n",
    "\n",
    "  \n",
    "play_RPS()"
   ]
  },
  {
   "cell_type": "markdown",
   "metadata": {},
   "source": [
    "# Students Grades Inforamation"
   ]
  },
  {
   "cell_type": "code",
   "execution_count": 3,
   "metadata": {},
   "outputs": [
    {
     "name": "stdout",
     "output_type": "stream",
     "text": [
      "--------------------------------------------\n",
      "Students Name : Lloyd\t Avg : 80.55\t Grades : B\n",
      "\n",
      "Students Name : Alice\t Avg : 91.15\t Grades : A\n",
      "\n",
      "Students Name : Tyler\t Avg : 79.90\t Grades : C\n",
      "\n",
      "\n",
      "Class Average : 83.87\n",
      "Class Grades : B\n"
     ]
    }
   ],
   "source": [
    "lloyd = {\n",
    "  \"name\": \"Lloyd\",\n",
    "  \"homework\": [90.0, 97.0, 75.0, 92.0],\n",
    "  \"quizzes\": [88.0, 40.0, 94.0],\n",
    "  \"tests\": [75.0, 90.0]\n",
    "}\n",
    "alice = {\n",
    "  \"name\": \"Alice\",\n",
    "  \"homework\": [100.0, 92.0, 98.0, 100.0],\n",
    "  \"quizzes\": [82.0, 83.0, 91.0],\n",
    "  \"tests\": [89.0, 97.0]\n",
    "}\n",
    "tyler = {\n",
    "  \"name\": \"Tyler\",\n",
    "  \"homework\": [0.0, 87.0, 75.0, 22.0],\n",
    "  \"quizzes\": [0.0, 75.0, 78.0],\n",
    "  \"tests\": [100.0, 100.0]\n",
    "}\n",
    "\n",
    "# Add your function below!\n",
    "def average(numbers):\n",
    "    total = sum(numbers)\n",
    "    total = float(total)\n",
    "    return total/len(numbers)\n",
    "\n",
    "def get_average(student):\n",
    "    homework = average(student[\"homework\"])\n",
    "    quizzes = average(student[\"quizzes\"])\n",
    "    tests = average(student[\"tests\"])\n",
    "    return 0.1 * homework + 0.3 * quizzes + 0.6 * tests\n",
    "\n",
    "def get_letter_grade(score):\n",
    "    if score >= 90:\n",
    "        return \"A\"\n",
    "    elif score >=80:\n",
    "        return \"B\"\n",
    "    elif score >=70:\n",
    "        return \"C\"\n",
    "    elif score >=60:\n",
    "        return \"D\"\n",
    "    else:\n",
    "        return \"F\"\n",
    "def get_class_average(class_list):\n",
    "    results = []\n",
    "    for student in class_list:\n",
    "        student_avg = get_average(student)\n",
    "        results.append(student_avg)\n",
    "    return average(results) \n",
    "\n",
    "def get_student_grade_info(students):\n",
    "    print (\"--------------------------------------------\")\n",
    "    for student in students:\n",
    "        print((\"Students Name : %s\\t Avg : %.2f\\t Grades : %s\\n\") % (student[\"name\"],get_average(student),get_letter_grade(get_average(student))))\n",
    " \n",
    "\n",
    "\n",
    "students = [lloyd,alice,tyler]\n",
    "\n",
    "get_student_grade_info(students)\n",
    "\n",
    "print()\n",
    "\n",
    "print ((\"Class Average : %.2f\\nClass Grades : %s\") %(get_class_average(students),get_letter_grade(get_class_average(students))))"
   ]
  },
  {
   "cell_type": "markdown",
   "metadata": {},
   "source": [
    "# BattelShip"
   ]
  },
  {
   "cell_type": "code",
   "execution_count": null,
   "metadata": {},
   "outputs": [],
   "source": [
    "from random import randint\n",
    "\n",
    "board = []\n",
    "\n",
    "for x in range(0, 5):\n",
    "    board.append([\"O\"] * 5)\n",
    "\n",
    "def print_board(board):\n",
    "    for row in board:\n",
    "        print (\" \".join(row))\n",
    "\n",
    "#print_board(board)\n",
    "\n",
    "def random_row(board):\n",
    "    return randint(0, len(board) - 1)\n",
    "\n",
    "def random_col(board):\n",
    "    return randint(0, len(board[0]) - 1)\n",
    "\n",
    "ship_row = random_row(board)\n",
    "ship_col = random_col(board)\n",
    "print (ship_row)\n",
    "print (ship_col)\n",
    "\n",
    "# Everything from here on should be in your for loop\n",
    "# don't forget to properly indent!\n",
    "for turn in range(4):\n",
    "    print_board(board)\n",
    "    print (\"Turn\", turn + 1)\n",
    "    guess_row = int(input(\"Guess Row: \"))\n",
    "    guess_col = int(input(\"Guess Col: \"))\n",
    "    \n",
    "    if guess_row == ship_row and guess_col == ship_col:\n",
    "        print (\"Congratulations! You sank my battleship!\")\n",
    "        break\n",
    "    else:\n",
    "        if guess_row not in range(5) or guess_col not in range(5):\n",
    "            print (\"Oops, that's not even in the ocean.\")\n",
    "        elif board[guess_row][guess_col] == \"X\":\n",
    "            print( \"You guessed that one already.\" )\n",
    "        else:\n",
    "            print (\"You missed my battleship!\")\n",
    "            board[guess_row][guess_col] = \"X\"\n",
    "    if (turn == 3):\n",
    "        print (\"Game Over\")\n",
    "        print_board(board)"
   ]
  },
  {
   "cell_type": "markdown",
   "metadata": {},
   "source": [
    "# Number Guessing"
   ]
  },
  {
   "cell_type": "code",
   "execution_count": 38,
   "metadata": {},
   "outputs": [
    {
     "name": "stdout",
     "output_type": "stream",
     "text": [
      "Enter the guess : 5\n",
      "Enter the guess : 5\n",
      "Enter the guess : 1\n",
      "Sorry, you lose!\n"
     ]
    }
   ],
   "source": [
    "from random import randint\n",
    "\n",
    "# Generates a number from 1 through 10 inclusive\n",
    "random_number = randint(1, 10)\n",
    "\n",
    "guesses_left = 3\n",
    "# Start your game!\n",
    "while guesses_left > 0:\n",
    "    # print (random_number)\n",
    "    guess = int(input(\"Enter the guess : \"))  \n",
    "    guesses_left -= 1\n",
    "    if guess == random_number:\n",
    "        print (\"You win!\")\n",
    "        break\n",
    "else:\n",
    "    print (\"Sorry, you lose!\")"
   ]
  },
  {
   "cell_type": "markdown",
   "metadata": {},
   "source": [
    "# Reverse string"
   ]
  },
  {
   "cell_type": "code",
   "execution_count": 49,
   "metadata": {},
   "outputs": [
    {
     "name": "stdout",
     "output_type": "stream",
     "text": [
      "dcba\n"
     ]
    }
   ],
   "source": [
    "def reverse(text):\n",
    "    word = \"\"\n",
    "    l = len(text) - 1\n",
    "    while l >= 0:\n",
    "        word = word + text[l]\n",
    "        l -= 1\n",
    "    return word\n",
    "\n",
    "print ( reverse(\"abcd\"))"
   ]
  },
  {
   "cell_type": "markdown",
   "metadata": {},
   "source": [
    "# Remove Vowel"
   ]
  },
  {
   "cell_type": "code",
   "execution_count": 52,
   "metadata": {},
   "outputs": [
    {
     "name": "stdout",
     "output_type": "stream",
     "text": [
      "hey you!\n",
      "Hy y!\n"
     ]
    }
   ],
   "source": [
    "def anti_vowel(text):\n",
    "    newtext = text.lower()\n",
    "    print(newtext)\n",
    "    word = \"\"\n",
    "    l = 0\n",
    "    while l < len(text):\n",
    "        if newtext[l] != 'a' and newtext[l] != 'e' and newtext[l] != 'i' and newtext[l] != 'o' and newtext[l] != 'u':\n",
    "            word = word + text[l]\n",
    "            l += 1\n",
    "        else:\n",
    "            l += 1\n",
    "    return word\n",
    "  \n",
    "print(anti_vowel(\"Hey you!\"))"
   ]
  },
  {
   "cell_type": "markdown",
   "metadata": {},
   "source": [
    "# Word Scrabble"
   ]
  },
  {
   "cell_type": "code",
   "execution_count": 56,
   "metadata": {},
   "outputs": [
    {
     "name": "stdout",
     "output_type": "stream",
     "text": [
      "8\n"
     ]
    }
   ],
   "source": [
    "score = {\"a\": 1, \"c\": 3, \"b\": 3, \"e\": 1, \"d\": 2, \"g\": 2, \n",
    "         \"f\": 4, \"i\": 1, \"h\": 4, \"k\": 5, \"j\": 8, \"m\": 3, \n",
    "         \"l\": 1, \"o\": 1, \"n\": 1, \"q\": 10, \"p\": 3, \"s\": 1, \n",
    "         \"r\": 1, \"u\": 1, \"t\": 1, \"w\": 4, \"v\": 4, \"y\": 4, \n",
    "         \"x\": 8, \"z\": 10}\n",
    "         \n",
    "def scrabble_score(word):\n",
    "    word = word.lower()\n",
    "    total = 0\n",
    "    for letter in word:\n",
    "        for leter in score:\n",
    "            if letter == leter:\n",
    "                total = total + score[leter]\n",
    "    return total\n",
    "\n",
    "print(scrabble_score(\"Hello\"))"
   ]
  },
  {
   "cell_type": "markdown",
   "metadata": {},
   "source": [
    "# Censor words"
   ]
  },
  {
   "cell_type": "code",
   "execution_count": 10,
   "metadata": {},
   "outputs": [
    {
     "name": "stdout",
     "output_type": "stream",
     "text": [
      "hi my name is **** . **** is my hobby. \n"
     ]
    }
   ],
   "source": [
    "def censor(text,word):\n",
    "    lists = text.split()\n",
    "   #print(lists)\n",
    "    newtext = \"\"\n",
    "    for words in lists:\n",
    "        if words.lower() == word:\n",
    "            newtext += \"*\"*4+ \" \"\n",
    "        else:\n",
    "            newtext += words + \" \"\n",
    "    return newtext\n",
    "\n",
    "print(censor(\"hi my name is hack .  Hack is my hobby.\",\"hack\"))"
   ]
  },
  {
   "cell_type": "markdown",
   "metadata": {},
   "source": [
    "# Number count"
   ]
  },
  {
   "cell_type": "code",
   "execution_count": 70,
   "metadata": {},
   "outputs": [
    {
     "name": "stdout",
     "output_type": "stream",
     "text": [
      "2\n"
     ]
    }
   ],
   "source": [
    "def count(sequence,item):\n",
    "    count = 0\n",
    "    for number in sequence:\n",
    "        if number == item:\n",
    "            count += 1\n",
    "    return count\n",
    "\n",
    "print(count([1,2,1,2,4],1))"
   ]
  },
  {
   "cell_type": "markdown",
   "metadata": {},
   "source": [
    "# Purify Even Or Odd numbers"
   ]
  },
  {
   "cell_type": "code",
   "execution_count": 71,
   "metadata": {},
   "outputs": [
    {
     "name": "stdout",
     "output_type": "stream",
     "text": [
      "[2, 4]\n"
     ]
    }
   ],
   "source": [
    "def purify(lists):\n",
    "    newlist = []\n",
    "    for i in lists:\n",
    "        if i%2 == 0:\n",
    "            newlist.append(i)\n",
    "    return newlist\n",
    "\n",
    "print(purify([1,2,3,4,5]))"
   ]
  },
  {
   "cell_type": "code",
   "execution_count": 78,
   "metadata": {},
   "outputs": [
    {
     "name": "stdout",
     "output_type": "stream",
     "text": [
      "100\n",
      "100\n"
     ]
    }
   ],
   "source": [
    "def product(lists):\n",
    "    num_multiply = 1\n",
    "    for i in lists:\n",
    "        num_multiply *= i\n",
    "    return num_multiply\n",
    "\n",
    "print(product([4,5,5]))"
   ]
  },
  {
   "cell_type": "code",
   "execution_count": null,
   "metadata": {},
   "outputs": [],
   "source": []
  }
 ],
 "metadata": {
  "celltoolbar": "Raw Cell Format",
  "kernelspec": {
   "display_name": "Python 3",
   "language": "python",
   "name": "python3"
  },
  "language_info": {
   "codemirror_mode": {
    "name": "ipython",
    "version": 3
   },
   "file_extension": ".py",
   "mimetype": "text/x-python",
   "name": "python",
   "nbconvert_exporter": "python",
   "pygments_lexer": "ipython3",
   "version": "3.6.4"
  },
  "widgets": {
   "application/vnd.jupyter.widget-state+json": {
    "state": {},
    "version_major": 2,
    "version_minor": 0
   }
  }
 },
 "nbformat": 4,
 "nbformat_minor": 2
}
