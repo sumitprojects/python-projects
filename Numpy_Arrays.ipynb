{
  "nbformat": 4,
  "nbformat_minor": 0,
  "metadata": {
    "kernelspec": {
      "display_name": "Python 3",
      "language": "python",
      "name": "python3"
    },
    "language_info": {
      "codemirror_mode": {
        "name": "ipython",
        "version": 3
      },
      "file_extension": ".py",
      "mimetype": "text/x-python",
      "name": "python",
      "nbconvert_exporter": "python",
      "pygments_lexer": "ipython3",
      "version": "3.7.4"
    },
    "colab": {
      "name": "Numpy-Arrays.ipynb",
      "provenance": [],
      "include_colab_link": true
    }
  },
  "cells": [
    {
      "cell_type": "markdown",
      "metadata": {
        "id": "view-in-github",
        "colab_type": "text"
      },
      "source": [
        "<a href=\"https://colab.research.google.com/github/sumitprojects/python-projects/blob/master/Numpy_Arrays.ipynb\" target=\"_parent\"><img src=\"https://colab.research.google.com/assets/colab-badge.svg\" alt=\"Open In Colab\"/></a>"
      ]
    },
    {
      "cell_type": "markdown",
      "metadata": {
        "id": "0kzj5-awdRPL",
        "colab_type": "text"
      },
      "source": [
        "## Numpy\n",
        "\n",
        "<img src='https://numpy.org/_static/numpy_logo.png'>\n",
        "\n",
        "NumPy is the fundamental package for scientific computing with Python. It contains among other things:\n",
        "\n",
        "* a powerful N-dimensional array object\n",
        "\n",
        "* sophisticated (broadcasting) functions\n",
        "\n",
        "* tools for integrating C/C++ and Fortran code\n",
        "\n",
        "* useful linear algebra, Fourier transform, and random number capabilities\n",
        "\n",
        "https://numpy.org/\n",
        "\n",
        "\n",
        "### Installation\n",
        "\n",
        "pip install numpy"
      ]
    },
    {
      "cell_type": "code",
      "metadata": {
        "id": "lHrOeY9adRPO",
        "colab_type": "code",
        "outputId": "f80a6a6e-a475-4db0-ee6e-1a3147418ff1",
        "colab": {
          "base_uri": "https://localhost:8080/",
          "height": 34
        }
      },
      "source": [
        "!pip install numpy"
      ],
      "execution_count": 1,
      "outputs": [
        {
          "output_type": "stream",
          "text": [
            "Requirement already satisfied: numpy in /usr/local/lib/python3.6/dist-packages (1.18.2)\n"
          ],
          "name": "stdout"
        }
      ]
    },
    {
      "cell_type": "markdown",
      "metadata": {
        "id": "wtNwECHqdRPc",
        "colab_type": "text"
      },
      "source": [
        "#### Using numpy"
      ]
    },
    {
      "cell_type": "code",
      "metadata": {
        "id": "D3PgflOPdRPe",
        "colab_type": "code",
        "colab": {}
      },
      "source": [
        "import numpy as np # np is just an alias"
      ],
      "execution_count": 0,
      "outputs": []
    },
    {
      "cell_type": "markdown",
      "metadata": {
        "id": "6HX37iM9dRPn",
        "colab_type": "text"
      },
      "source": [
        "#### Numpy Arrays\n",
        "\n",
        "Two forms of numpy arrays:\n",
        "\n",
        "* Vectors - 1-Dimensional\n",
        "* Matrices - 2-Dimensional"
      ]
    },
    {
      "cell_type": "markdown",
      "metadata": {
        "id": "FGjXc-endRPq",
        "colab_type": "text"
      },
      "source": [
        "### Creating numpy arrays\n",
        "\n",
        "* From Python List"
      ]
    },
    {
      "cell_type": "code",
      "metadata": {
        "id": "mLV7SInkdRPu",
        "colab_type": "code",
        "outputId": "b4a3b2d7-90f9-4555-bbdf-dc87fed55cb4",
        "colab": {
          "base_uri": "https://localhost:8080/",
          "height": 34
        }
      },
      "source": [
        "lst = [1,2,3,4,5]\n",
        "\n",
        "lst"
      ],
      "execution_count": 3,
      "outputs": [
        {
          "output_type": "execute_result",
          "data": {
            "text/plain": [
              "[1, 2, 3, 4, 5]"
            ]
          },
          "metadata": {
            "tags": []
          },
          "execution_count": 3
        }
      ]
    },
    {
      "cell_type": "code",
      "metadata": {
        "id": "3O9SD398dRP3",
        "colab_type": "code",
        "outputId": "59517de7-28da-47f8-86a4-dca668abde38",
        "colab": {
          "base_uri": "https://localhost:8080/",
          "height": 34
        }
      },
      "source": [
        "np.array(lst)"
      ],
      "execution_count": 4,
      "outputs": [
        {
          "output_type": "execute_result",
          "data": {
            "text/plain": [
              "array([1, 2, 3, 4, 5])"
            ]
          },
          "metadata": {
            "tags": []
          },
          "execution_count": 4
        }
      ]
    },
    {
      "cell_type": "code",
      "metadata": {
        "id": "PfmeOGpndRQB",
        "colab_type": "code",
        "outputId": "d11bc967-52c8-4b8a-854a-32773e50d77f",
        "colab": {
          "base_uri": "https://localhost:8080/",
          "height": 34
        }
      },
      "source": [
        "matrix = [[1,2,3],[4,5,6],[7,8,9]]\n",
        "matrix"
      ],
      "execution_count": 5,
      "outputs": [
        {
          "output_type": "execute_result",
          "data": {
            "text/plain": [
              "[[1, 2, 3], [4, 5, 6], [7, 8, 9]]"
            ]
          },
          "metadata": {
            "tags": []
          },
          "execution_count": 5
        }
      ]
    },
    {
      "cell_type": "code",
      "metadata": {
        "id": "S6_wn1jWdRQM",
        "colab_type": "code",
        "outputId": "d4cfb415-1ed5-4a70-89b0-e695350b751a",
        "colab": {
          "base_uri": "https://localhost:8080/",
          "height": 68
        }
      },
      "source": [
        "np.array(matrix)"
      ],
      "execution_count": 6,
      "outputs": [
        {
          "output_type": "execute_result",
          "data": {
            "text/plain": [
              "array([[1, 2, 3],\n",
              "       [4, 5, 6],\n",
              "       [7, 8, 9]])"
            ]
          },
          "metadata": {
            "tags": []
          },
          "execution_count": 6
        }
      ]
    },
    {
      "cell_type": "markdown",
      "metadata": {
        "id": "4V9lCiT0dRQW",
        "colab_type": "text"
      },
      "source": [
        "### Built-in methods for numpy array"
      ]
    },
    {
      "cell_type": "markdown",
      "metadata": {
        "id": "U5JziDSBdRQY",
        "colab_type": "text"
      },
      "source": [
        "#### arange : Returns evenly spaced values within a given interval"
      ]
    },
    {
      "cell_type": "code",
      "metadata": {
        "id": "Ne-QCMX7dRQZ",
        "colab_type": "code",
        "outputId": "b18e033b-dfa5-4f11-8eed-f4adff852be2",
        "colab": {
          "base_uri": "https://localhost:8080/",
          "height": 34
        }
      },
      "source": [
        "np.arange(0,10)"
      ],
      "execution_count": 7,
      "outputs": [
        {
          "output_type": "execute_result",
          "data": {
            "text/plain": [
              "array([0, 1, 2, 3, 4, 5, 6, 7, 8, 9])"
            ]
          },
          "metadata": {
            "tags": []
          },
          "execution_count": 7
        }
      ]
    },
    {
      "cell_type": "code",
      "metadata": {
        "id": "c2CSgW4ZdRQk",
        "colab_type": "code",
        "outputId": "2450daf0-4d00-467a-fa24-bafbbd1700dc",
        "colab": {
          "base_uri": "https://localhost:8080/",
          "height": 34
        }
      },
      "source": [
        "np.arange(0,31,30)"
      ],
      "execution_count": 8,
      "outputs": [
        {
          "output_type": "execute_result",
          "data": {
            "text/plain": [
              "array([ 0, 30])"
            ]
          },
          "metadata": {
            "tags": []
          },
          "execution_count": 8
        }
      ]
    },
    {
      "cell_type": "markdown",
      "metadata": {
        "id": "8T0RG0tKdRQs",
        "colab_type": "text"
      },
      "source": [
        "#### zeros and ones\n",
        "Generate arrays of zeros and ones"
      ]
    },
    {
      "cell_type": "code",
      "metadata": {
        "id": "XorZgKK_dRQt",
        "colab_type": "code",
        "outputId": "bcb1697d-ddda-479a-abb3-2b8cce01fdcb",
        "colab": {
          "base_uri": "https://localhost:8080/",
          "height": 34
        }
      },
      "source": [
        "np.zeros(3)"
      ],
      "execution_count": 9,
      "outputs": [
        {
          "output_type": "execute_result",
          "data": {
            "text/plain": [
              "array([0., 0., 0.])"
            ]
          },
          "metadata": {
            "tags": []
          },
          "execution_count": 9
        }
      ]
    },
    {
      "cell_type": "code",
      "metadata": {
        "id": "wAVApkwfdRQz",
        "colab_type": "code",
        "outputId": "ea7c9f24-2763-4f4c-a145-896c00c44570",
        "colab": {
          "base_uri": "https://localhost:8080/",
          "height": 68
        }
      },
      "source": [
        "np.zeros((3,3))"
      ],
      "execution_count": 10,
      "outputs": [
        {
          "output_type": "execute_result",
          "data": {
            "text/plain": [
              "array([[0., 0., 0.],\n",
              "       [0., 0., 0.],\n",
              "       [0., 0., 0.]])"
            ]
          },
          "metadata": {
            "tags": []
          },
          "execution_count": 10
        }
      ]
    },
    {
      "cell_type": "code",
      "metadata": {
        "id": "fZpcf-CndRQ9",
        "colab_type": "code",
        "outputId": "9f3cadc0-d32c-4918-d14f-9789d022b9b3",
        "colab": {
          "base_uri": "https://localhost:8080/",
          "height": 34
        }
      },
      "source": [
        "np.ones(4)"
      ],
      "execution_count": 11,
      "outputs": [
        {
          "output_type": "execute_result",
          "data": {
            "text/plain": [
              "array([1., 1., 1., 1.])"
            ]
          },
          "metadata": {
            "tags": []
          },
          "execution_count": 11
        }
      ]
    },
    {
      "cell_type": "code",
      "metadata": {
        "id": "TSDigem2dRRC",
        "colab_type": "code",
        "outputId": "795a4814-3626-4f3c-d321-b223591576e5",
        "colab": {
          "base_uri": "https://localhost:8080/",
          "height": 85
        }
      },
      "source": [
        "np.ones((4,4))"
      ],
      "execution_count": 12,
      "outputs": [
        {
          "output_type": "execute_result",
          "data": {
            "text/plain": [
              "array([[1., 1., 1., 1.],\n",
              "       [1., 1., 1., 1.],\n",
              "       [1., 1., 1., 1.],\n",
              "       [1., 1., 1., 1.]])"
            ]
          },
          "metadata": {
            "tags": []
          },
          "execution_count": 12
        }
      ]
    },
    {
      "cell_type": "markdown",
      "metadata": {
        "id": "O4QvJUI4dRRI",
        "colab_type": "text"
      },
      "source": [
        "#### linspace\n",
        "Returns evenly spaced numbers over a specified interval"
      ]
    },
    {
      "cell_type": "code",
      "metadata": {
        "id": "U60fOCeUdRRJ",
        "colab_type": "code",
        "outputId": "0f09bafa-1500-4b89-da44-0cfb71dde42d",
        "colab": {
          "base_uri": "https://localhost:8080/",
          "height": 0
        }
      },
      "source": [
        "np.linspace(0,10,3)"
      ],
      "execution_count": 13,
      "outputs": [
        {
          "output_type": "execute_result",
          "data": {
            "text/plain": [
              "array([ 0.,  5., 10.])"
            ]
          },
          "metadata": {
            "tags": []
          },
          "execution_count": 13
        }
      ]
    },
    {
      "cell_type": "code",
      "metadata": {
        "id": "Zbn95P1ndRRP",
        "colab_type": "code",
        "outputId": "e3d9dec9-3756-47ea-b074-780fa6a05d53",
        "colab": {
          "base_uri": "https://localhost:8080/",
          "height": 0
        }
      },
      "source": [
        "np.linspace(0,31,30)"
      ],
      "execution_count": 14,
      "outputs": [
        {
          "output_type": "execute_result",
          "data": {
            "text/plain": [
              "array([ 0.        ,  1.06896552,  2.13793103,  3.20689655,  4.27586207,\n",
              "        5.34482759,  6.4137931 ,  7.48275862,  8.55172414,  9.62068966,\n",
              "       10.68965517, 11.75862069, 12.82758621, 13.89655172, 14.96551724,\n",
              "       16.03448276, 17.10344828, 18.17241379, 19.24137931, 20.31034483,\n",
              "       21.37931034, 22.44827586, 23.51724138, 24.5862069 , 25.65517241,\n",
              "       26.72413793, 27.79310345, 28.86206897, 29.93103448, 31.        ])"
            ]
          },
          "metadata": {
            "tags": []
          },
          "execution_count": 14
        }
      ]
    },
    {
      "cell_type": "markdown",
      "metadata": {
        "id": "seZNyM8tdRRU",
        "colab_type": "text"
      },
      "source": [
        "#### eye\n",
        "Creates an identity matrix"
      ]
    },
    {
      "cell_type": "code",
      "metadata": {
        "id": "K9fxFN6QdRRV",
        "colab_type": "code",
        "outputId": "49b3ada5-2cfd-4d7e-91ae-55a210adb402",
        "colab": {
          "base_uri": "https://localhost:8080/",
          "height": 0
        }
      },
      "source": [
        "np.eye(4)"
      ],
      "execution_count": 15,
      "outputs": [
        {
          "output_type": "execute_result",
          "data": {
            "text/plain": [
              "array([[1., 0., 0., 0.],\n",
              "       [0., 1., 0., 0.],\n",
              "       [0., 0., 1., 0.],\n",
              "       [0., 0., 0., 1.]])"
            ]
          },
          "metadata": {
            "tags": []
          },
          "execution_count": 15
        }
      ]
    },
    {
      "cell_type": "markdown",
      "metadata": {
        "id": "-rT49jKDdRRb",
        "colab_type": "text"
      },
      "source": [
        "#### Random\n",
        "\n",
        "Numpy has lots of ways to create random number arrays\n",
        "\n",
        "* rand\n",
        "* randn\n",
        "* randint\n",
        "\n",
        "#### rand\n",
        "Create and array of the given shape and populate it with the random samples from a uniform distribution over [0,1]"
      ]
    },
    {
      "cell_type": "code",
      "metadata": {
        "id": "naAlZpNFdRRd",
        "colab_type": "code",
        "outputId": "54cb83d3-2d19-4a98-d7af-37bd52947f56",
        "colab": {
          "base_uri": "https://localhost:8080/",
          "height": 0
        }
      },
      "source": [
        "np.random.rand(10)"
      ],
      "execution_count": 16,
      "outputs": [
        {
          "output_type": "execute_result",
          "data": {
            "text/plain": [
              "array([0.7876301 , 0.3834022 , 0.67757795, 0.5322528 , 0.13675718,\n",
              "       0.15765824, 0.47399646, 0.94958151, 0.05947566, 0.0904748 ])"
            ]
          },
          "metadata": {
            "tags": []
          },
          "execution_count": 16
        }
      ]
    },
    {
      "cell_type": "code",
      "metadata": {
        "id": "uqUcu7ZOdRRk",
        "colab_type": "code",
        "outputId": "8bf7607c-94ef-46d1-f128-d379f909bc9f",
        "colab": {
          "base_uri": "https://localhost:8080/",
          "height": 0
        }
      },
      "source": [
        "np.random.rand(5,5)"
      ],
      "execution_count": 17,
      "outputs": [
        {
          "output_type": "execute_result",
          "data": {
            "text/plain": [
              "array([[0.16347089, 0.10663875, 0.27196645, 0.36300345, 0.52810264],\n",
              "       [0.28114162, 0.41401443, 0.15385206, 0.36347897, 0.97875438],\n",
              "       [0.19300253, 0.78466081, 0.52335821, 0.71170108, 0.11160373],\n",
              "       [0.57149061, 0.69188678, 0.64696674, 0.57258861, 0.89416493],\n",
              "       [0.57397108, 0.15507084, 0.50075691, 0.76752013, 0.62074379]])"
            ]
          },
          "metadata": {
            "tags": []
          },
          "execution_count": 17
        }
      ]
    },
    {
      "cell_type": "markdown",
      "metadata": {
        "id": "SduwHBqSdRRs",
        "colab_type": "text"
      },
      "source": [
        "#### randn\n",
        "Creates a sample/samples from the standard normal distribution unlike rand which is uniform distribution"
      ]
    },
    {
      "cell_type": "code",
      "metadata": {
        "id": "p_GpCwdXdRRt",
        "colab_type": "code",
        "outputId": "ba9f5b23-45ce-4c3c-d91e-5045dc49d79f",
        "colab": {
          "base_uri": "https://localhost:8080/",
          "height": 0
        }
      },
      "source": [
        "np.random.randn(2)"
      ],
      "execution_count": 18,
      "outputs": [
        {
          "output_type": "execute_result",
          "data": {
            "text/plain": [
              "array([0.80619359, 0.5233807 ])"
            ]
          },
          "metadata": {
            "tags": []
          },
          "execution_count": 18
        }
      ]
    },
    {
      "cell_type": "code",
      "metadata": {
        "id": "6d1tF6pJdRRx",
        "colab_type": "code",
        "outputId": "a6ddedf1-8160-495f-edff-65897aa1118f",
        "colab": {
          "base_uri": "https://localhost:8080/",
          "height": 0
        }
      },
      "source": [
        "np.random.randn(4,4)"
      ],
      "execution_count": 19,
      "outputs": [
        {
          "output_type": "execute_result",
          "data": {
            "text/plain": [
              "array([[-1.24608359,  1.06017413, -0.55649202,  0.85525937],\n",
              "       [-0.28757841,  0.76354165,  0.39220929, -0.68843735],\n",
              "       [-0.58855344,  0.19332342, -0.05121918,  0.10866021],\n",
              "       [-0.98193474, -0.86288538,  0.86468409, -1.88508482]])"
            ]
          },
          "metadata": {
            "tags": []
          },
          "execution_count": 19
        }
      ]
    },
    {
      "cell_type": "markdown",
      "metadata": {
        "id": "L67WqT02dRR1",
        "colab_type": "text"
      },
      "source": [
        "#### randint\n",
        "Returns random integers from low (included) to high (excluded)"
      ]
    },
    {
      "cell_type": "code",
      "metadata": {
        "id": "TnTZEiBvdRR2",
        "colab_type": "code",
        "outputId": "36b8e8ef-a0ab-4676-bb10-d2c73a0c9c2b",
        "colab": {
          "base_uri": "https://localhost:8080/",
          "height": 0
        }
      },
      "source": [
        "np.random.randint(0,100)"
      ],
      "execution_count": 20,
      "outputs": [
        {
          "output_type": "execute_result",
          "data": {
            "text/plain": [
              "37"
            ]
          },
          "metadata": {
            "tags": []
          },
          "execution_count": 20
        }
      ]
    },
    {
      "cell_type": "code",
      "metadata": {
        "id": "1LVXteWmdRR5",
        "colab_type": "code",
        "outputId": "e3140d36-54cf-46b8-89f6-2ad0fbb844b6",
        "colab": {
          "base_uri": "https://localhost:8080/",
          "height": 0
        }
      },
      "source": [
        "np.random.randint(1,100,10)"
      ],
      "execution_count": 21,
      "outputs": [
        {
          "output_type": "execute_result",
          "data": {
            "text/plain": [
              "array([66,  7, 96, 21, 44, 44,  3, 71, 68,  6])"
            ]
          },
          "metadata": {
            "tags": []
          },
          "execution_count": 21
        }
      ]
    },
    {
      "cell_type": "markdown",
      "metadata": {
        "id": "MtwDaDLJdRR9",
        "colab_type": "text"
      },
      "source": [
        "### Array attributes and methods"
      ]
    },
    {
      "cell_type": "code",
      "metadata": {
        "id": "QNn50EAMdRR-",
        "colab_type": "code",
        "colab": {}
      },
      "source": [
        "arr = np.arange(25)\n",
        "ranarr = np.random.randint(0,50,10)"
      ],
      "execution_count": 0,
      "outputs": []
    },
    {
      "cell_type": "code",
      "metadata": {
        "id": "c3TuIe68dRSD",
        "colab_type": "code",
        "outputId": "4bf6fd2a-f12e-4037-851c-0bef9101131d",
        "colab": {
          "base_uri": "https://localhost:8080/",
          "height": 51
        }
      },
      "source": [
        "arr"
      ],
      "execution_count": 23,
      "outputs": [
        {
          "output_type": "execute_result",
          "data": {
            "text/plain": [
              "array([ 0,  1,  2,  3,  4,  5,  6,  7,  8,  9, 10, 11, 12, 13, 14, 15, 16,\n",
              "       17, 18, 19, 20, 21, 22, 23, 24])"
            ]
          },
          "metadata": {
            "tags": []
          },
          "execution_count": 23
        }
      ]
    },
    {
      "cell_type": "code",
      "metadata": {
        "id": "ti9vGhtbdRSH",
        "colab_type": "code",
        "outputId": "56b78ecc-9d0a-4793-e511-e7467cbf5422",
        "colab": {
          "base_uri": "https://localhost:8080/",
          "height": 34
        }
      },
      "source": [
        "ranarr"
      ],
      "execution_count": 24,
      "outputs": [
        {
          "output_type": "execute_result",
          "data": {
            "text/plain": [
              "array([48, 17, 30, 10, 38,  7, 30, 43, 41, 13])"
            ]
          },
          "metadata": {
            "tags": []
          },
          "execution_count": 24
        }
      ]
    },
    {
      "cell_type": "markdown",
      "metadata": {
        "id": "kGg4bCYfdRSL",
        "colab_type": "text"
      },
      "source": [
        "### Reshape\n",
        "\n",
        "Returns an array containing same data but different shape"
      ]
    },
    {
      "cell_type": "code",
      "metadata": {
        "id": "SojHPHW6dRSM",
        "colab_type": "code",
        "outputId": "2ae6fed9-ab10-4c83-e2ef-3873c3995e1b",
        "colab": {
          "base_uri": "https://localhost:8080/",
          "height": 102
        }
      },
      "source": [
        "arr.reshape(5,5)"
      ],
      "execution_count": 25,
      "outputs": [
        {
          "output_type": "execute_result",
          "data": {
            "text/plain": [
              "array([[ 0,  1,  2,  3,  4],\n",
              "       [ 5,  6,  7,  8,  9],\n",
              "       [10, 11, 12, 13, 14],\n",
              "       [15, 16, 17, 18, 19],\n",
              "       [20, 21, 22, 23, 24]])"
            ]
          },
          "metadata": {
            "tags": []
          },
          "execution_count": 25
        }
      ]
    },
    {
      "cell_type": "markdown",
      "metadata": {
        "id": "N35RQSxidRSP",
        "colab_type": "text"
      },
      "source": [
        "#### max, min,argmax,argmin\n",
        "\n",
        "Useful methods to find minimum and maximum values or index locations."
      ]
    },
    {
      "cell_type": "code",
      "metadata": {
        "id": "TnVDaRuTdRSQ",
        "colab_type": "code",
        "outputId": "52e32a6e-93ec-4578-b2a4-b0599da2a3a0",
        "colab": {
          "base_uri": "https://localhost:8080/",
          "height": 0
        }
      },
      "source": [
        "ranarr"
      ],
      "execution_count": 26,
      "outputs": [
        {
          "output_type": "execute_result",
          "data": {
            "text/plain": [
              "array([48, 17, 30, 10, 38,  7, 30, 43, 41, 13])"
            ]
          },
          "metadata": {
            "tags": []
          },
          "execution_count": 26
        }
      ]
    },
    {
      "cell_type": "code",
      "metadata": {
        "id": "T38wiKCHdRST",
        "colab_type": "code",
        "outputId": "e4824a83-7508-4b3f-bbfa-0e2749290b97",
        "colab": {
          "base_uri": "https://localhost:8080/",
          "height": 0
        }
      },
      "source": [
        "ranarr.max()"
      ],
      "execution_count": 27,
      "outputs": [
        {
          "output_type": "execute_result",
          "data": {
            "text/plain": [
              "48"
            ]
          },
          "metadata": {
            "tags": []
          },
          "execution_count": 27
        }
      ]
    },
    {
      "cell_type": "code",
      "metadata": {
        "id": "Nh05n7mydRSX",
        "colab_type": "code",
        "outputId": "8a64eff8-754f-438b-e9a1-3fa4aa3d92f9",
        "colab": {
          "base_uri": "https://localhost:8080/",
          "height": 0
        }
      },
      "source": [
        "ranarr.argmax()"
      ],
      "execution_count": 28,
      "outputs": [
        {
          "output_type": "execute_result",
          "data": {
            "text/plain": [
              "0"
            ]
          },
          "metadata": {
            "tags": []
          },
          "execution_count": 28
        }
      ]
    },
    {
      "cell_type": "code",
      "metadata": {
        "id": "htIJSyL_dRSb",
        "colab_type": "code",
        "outputId": "1896061c-c7c1-4308-cf07-46e312109ce0",
        "colab": {
          "base_uri": "https://localhost:8080/",
          "height": 0
        }
      },
      "source": [
        "ranarr.min()"
      ],
      "execution_count": 29,
      "outputs": [
        {
          "output_type": "execute_result",
          "data": {
            "text/plain": [
              "7"
            ]
          },
          "metadata": {
            "tags": []
          },
          "execution_count": 29
        }
      ]
    },
    {
      "cell_type": "code",
      "metadata": {
        "id": "Wq2a2uiUdRSf",
        "colab_type": "code",
        "outputId": "b56cd382-0bb6-497c-9767-edad911fcf35",
        "colab": {
          "base_uri": "https://localhost:8080/",
          "height": 0
        }
      },
      "source": [
        "ranarr.argmin()"
      ],
      "execution_count": 30,
      "outputs": [
        {
          "output_type": "execute_result",
          "data": {
            "text/plain": [
              "5"
            ]
          },
          "metadata": {
            "tags": []
          },
          "execution_count": 30
        }
      ]
    },
    {
      "cell_type": "markdown",
      "metadata": {
        "id": "YwFuhJ1_dRSi",
        "colab_type": "text"
      },
      "source": [
        "### Shape\n",
        "Shape is an attribute that arrays have"
      ]
    },
    {
      "cell_type": "code",
      "metadata": {
        "id": "kyIqaqtZdRSj",
        "colab_type": "code",
        "outputId": "4a173324-dfda-456a-9539-641a53601e61",
        "colab": {
          "base_uri": "https://localhost:8080/",
          "height": 34
        }
      },
      "source": [
        "arr.shape"
      ],
      "execution_count": 31,
      "outputs": [
        {
          "output_type": "execute_result",
          "data": {
            "text/plain": [
              "(25,)"
            ]
          },
          "metadata": {
            "tags": []
          },
          "execution_count": 31
        }
      ]
    },
    {
      "cell_type": "code",
      "metadata": {
        "id": "0e_pHDeXdRSm",
        "colab_type": "code",
        "outputId": "8645352f-ab62-409b-9cb6-ed90799e36a0",
        "colab": {
          "base_uri": "https://localhost:8080/",
          "height": 34
        }
      },
      "source": [
        "arr.reshape(1,25).shape"
      ],
      "execution_count": 32,
      "outputs": [
        {
          "output_type": "execute_result",
          "data": {
            "text/plain": [
              "(1, 25)"
            ]
          },
          "metadata": {
            "tags": []
          },
          "execution_count": 32
        }
      ]
    },
    {
      "cell_type": "code",
      "metadata": {
        "id": "DmggG2BJdRSr",
        "colab_type": "code",
        "outputId": "1384f9b3-7c49-4fcf-d79e-e0d108849408",
        "colab": {
          "base_uri": "https://localhost:8080/",
          "height": 34
        }
      },
      "source": [
        "arr.reshape(25,1).shape"
      ],
      "execution_count": 33,
      "outputs": [
        {
          "output_type": "execute_result",
          "data": {
            "text/plain": [
              "(25, 1)"
            ]
          },
          "metadata": {
            "tags": []
          },
          "execution_count": 33
        }
      ]
    },
    {
      "cell_type": "markdown",
      "metadata": {
        "id": "XAb-t7HtdRSv",
        "colab_type": "text"
      },
      "source": [
        "### dtype\n",
        "Data type of object in array"
      ]
    },
    {
      "cell_type": "code",
      "metadata": {
        "id": "QLBiLTWhdRSv",
        "colab_type": "code",
        "outputId": "c5b8884e-fe96-430e-d1f8-a6d67c0dbeaa",
        "colab": {
          "base_uri": "https://localhost:8080/",
          "height": 34
        }
      },
      "source": [
        "arr.dtype"
      ],
      "execution_count": 34,
      "outputs": [
        {
          "output_type": "execute_result",
          "data": {
            "text/plain": [
              "dtype('int64')"
            ]
          },
          "metadata": {
            "tags": []
          },
          "execution_count": 34
        }
      ]
    },
    {
      "cell_type": "markdown",
      "metadata": {
        "id": "fsr9mN76dRSz",
        "colab_type": "text"
      },
      "source": [
        "# Great Job !!"
      ]
    }
  ]
}