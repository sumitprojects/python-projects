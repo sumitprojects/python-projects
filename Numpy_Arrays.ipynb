{
  "nbformat": 4,
  "nbformat_minor": 0,
  "metadata": {
    "kernelspec": {
      "display_name": "Python 3",
      "language": "python",
      "name": "python3"
    },
    "language_info": {
      "codemirror_mode": {
        "name": "ipython",
        "version": 3
      },
      "file_extension": ".py",
      "mimetype": "text/x-python",
      "name": "python",
      "nbconvert_exporter": "python",
      "pygments_lexer": "ipython3",
      "version": "3.7.4"
    },
    "colab": {
      "name": "Numpy-Arrays.ipynb",
      "provenance": [],
      "include_colab_link": true
    }
  },
  "cells": [
    {
      "cell_type": "markdown",
      "metadata": {
        "id": "view-in-github",
        "colab_type": "text"
      },
      "source": [
        "<a href=\"https://colab.research.google.com/github/sumitprojects/python-projects/blob/master/Numpy_Arrays.ipynb\" target=\"_parent\"><img src=\"https://colab.research.google.com/assets/colab-badge.svg\" alt=\"Open In Colab\"/></a>"
      ]
    },
    {
      "cell_type": "markdown",
      "metadata": {
        "id": "0kzj5-awdRPL",
        "colab_type": "text"
      },
      "source": [
        "## Numpy\n",
        "\n",
        "<img src='https://numpy.org/_static/numpy_logo.png'>\n",
        "\n",
        "NumPy is the fundamental package for scientific computing with Python. It contains among other things:\n",
        "\n",
        "* a powerful N-dimensional array object\n",
        "\n",
        "* sophisticated (broadcasting) functions\n",
        "\n",
        "* tools for integrating C/C++ and Fortran code\n",
        "\n",
        "* useful linear algebra, Fourier transform, and random number capabilities\n",
        "\n",
        "https://numpy.org/\n",
        "\n",
        "\n",
        "### Installation\n",
        "\n",
        "pip install numpy"
      ]
    },
    {
      "cell_type": "code",
      "metadata": {
        "id": "lHrOeY9adRPO",
        "colab_type": "code",
        "colab": {},
        "outputId": "04704655-575c-471b-bd6c-988c5a41f3f9"
      },
      "source": [
        "!pip install numpy"
      ],
      "execution_count": 0,
      "outputs": [
        {
          "output_type": "stream",
          "text": [
            "Requirement already satisfied: numpy in /Users/vipulgaur/opt/anaconda3/lib/python3.7/site-packages (1.17.2)\r\n"
          ],
          "name": "stdout"
        }
      ]
    },
    {
      "cell_type": "markdown",
      "metadata": {
        "id": "wtNwECHqdRPc",
        "colab_type": "text"
      },
      "source": [
        "#### Using numpy"
      ]
    },
    {
      "cell_type": "code",
      "metadata": {
        "id": "D3PgflOPdRPe",
        "colab_type": "code",
        "colab": {}
      },
      "source": [
        "import numpy as np # np is just an alias"
      ],
      "execution_count": 0,
      "outputs": []
    },
    {
      "cell_type": "markdown",
      "metadata": {
        "id": "6HX37iM9dRPn",
        "colab_type": "text"
      },
      "source": [
        "#### Numpy Arrays\n",
        "\n",
        "Two forms of numpy arrays:\n",
        "\n",
        "* Vectors - 1-Dimensional\n",
        "* Matrices - 2-Dimensional"
      ]
    },
    {
      "cell_type": "markdown",
      "metadata": {
        "id": "FGjXc-endRPq",
        "colab_type": "text"
      },
      "source": [
        "### Creating numpy arrays\n",
        "\n",
        "* From Python List"
      ]
    },
    {
      "cell_type": "code",
      "metadata": {
        "id": "mLV7SInkdRPu",
        "colab_type": "code",
        "colab": {},
        "outputId": "6b98008c-f19a-4675-bad9-20ecf7704a9e"
      },
      "source": [
        "lst = [1,2,3,4,5]\n",
        "\n",
        "lst"
      ],
      "execution_count": 0,
      "outputs": [
        {
          "output_type": "execute_result",
          "data": {
            "text/plain": [
              "[1, 2, 3, 4, 5]"
            ]
          },
          "metadata": {
            "tags": []
          },
          "execution_count": 3
        }
      ]
    },
    {
      "cell_type": "code",
      "metadata": {
        "id": "3O9SD398dRP3",
        "colab_type": "code",
        "colab": {},
        "outputId": "cdb10072-406c-42f6-b7a3-76cc6dc847d4"
      },
      "source": [
        "np.array(lst)"
      ],
      "execution_count": 0,
      "outputs": [
        {
          "output_type": "execute_result",
          "data": {
            "text/plain": [
              "array([1, 2, 3, 4, 5])"
            ]
          },
          "metadata": {
            "tags": []
          },
          "execution_count": 4
        }
      ]
    },
    {
      "cell_type": "code",
      "metadata": {
        "id": "PfmeOGpndRQB",
        "colab_type": "code",
        "colab": {},
        "outputId": "7645788d-c336-47c3-8190-61a8130423cf"
      },
      "source": [
        "matrix = [[1,2,3],[4,5,6],[7,8,9]]\n",
        "matrix"
      ],
      "execution_count": 0,
      "outputs": [
        {
          "output_type": "execute_result",
          "data": {
            "text/plain": [
              "[[1, 2, 3], [4, 5, 6], [7, 8, 9]]"
            ]
          },
          "metadata": {
            "tags": []
          },
          "execution_count": 5
        }
      ]
    },
    {
      "cell_type": "code",
      "metadata": {
        "id": "S6_wn1jWdRQM",
        "colab_type": "code",
        "colab": {},
        "outputId": "1f5689b0-74b3-41fc-bc1b-20a5361bf2e0"
      },
      "source": [
        "np.array(matrix)"
      ],
      "execution_count": 0,
      "outputs": [
        {
          "output_type": "execute_result",
          "data": {
            "text/plain": [
              "array([[1, 2, 3],\n",
              "       [4, 5, 6],\n",
              "       [7, 8, 9]])"
            ]
          },
          "metadata": {
            "tags": []
          },
          "execution_count": 6
        }
      ]
    },
    {
      "cell_type": "markdown",
      "metadata": {
        "id": "4V9lCiT0dRQW",
        "colab_type": "text"
      },
      "source": [
        "### Built-in methods for numpy array"
      ]
    },
    {
      "cell_type": "markdown",
      "metadata": {
        "id": "U5JziDSBdRQY",
        "colab_type": "text"
      },
      "source": [
        "#### arange : Returns evenly spaced values within a given interval"
      ]
    },
    {
      "cell_type": "code",
      "metadata": {
        "id": "Ne-QCMX7dRQZ",
        "colab_type": "code",
        "colab": {},
        "outputId": "2f7f44dd-68cc-4e82-8d65-0d3cf8925c6a"
      },
      "source": [
        "np.arange(0,10)"
      ],
      "execution_count": 0,
      "outputs": [
        {
          "output_type": "execute_result",
          "data": {
            "text/plain": [
              "array([0, 1, 2, 3, 4, 5, 6, 7, 8, 9])"
            ]
          },
          "metadata": {
            "tags": []
          },
          "execution_count": 7
        }
      ]
    },
    {
      "cell_type": "code",
      "metadata": {
        "id": "c2CSgW4ZdRQk",
        "colab_type": "code",
        "colab": {},
        "outputId": "638a4524-5c18-4df6-9fe6-5f927ea25958"
      },
      "source": [
        "np.arange(0,31,30)"
      ],
      "execution_count": 0,
      "outputs": [
        {
          "output_type": "execute_result",
          "data": {
            "text/plain": [
              "array([ 0, 30])"
            ]
          },
          "metadata": {
            "tags": []
          },
          "execution_count": 18
        }
      ]
    },
    {
      "cell_type": "markdown",
      "metadata": {
        "id": "8T0RG0tKdRQs",
        "colab_type": "text"
      },
      "source": [
        "#### zeros and ones\n",
        "Generate arrays of zeros and ones"
      ]
    },
    {
      "cell_type": "code",
      "metadata": {
        "id": "XorZgKK_dRQt",
        "colab_type": "code",
        "colab": {},
        "outputId": "a6b01973-e77a-440e-d59f-8173278078ae"
      },
      "source": [
        "np.zeros(3)"
      ],
      "execution_count": 0,
      "outputs": [
        {
          "output_type": "execute_result",
          "data": {
            "text/plain": [
              "array([0., 0., 0.])"
            ]
          },
          "metadata": {
            "tags": []
          },
          "execution_count": 10
        }
      ]
    },
    {
      "cell_type": "code",
      "metadata": {
        "id": "wAVApkwfdRQz",
        "colab_type": "code",
        "colab": {},
        "outputId": "5da1c8b1-d04e-4d7c-eaf9-2ccfd7b95012"
      },
      "source": [
        "np.zeros((3,3))"
      ],
      "execution_count": 0,
      "outputs": [
        {
          "output_type": "execute_result",
          "data": {
            "text/plain": [
              "array([[0., 0., 0.],\n",
              "       [0., 0., 0.],\n",
              "       [0., 0., 0.]])"
            ]
          },
          "metadata": {
            "tags": []
          },
          "execution_count": 12
        }
      ]
    },
    {
      "cell_type": "code",
      "metadata": {
        "id": "fZpcf-CndRQ9",
        "colab_type": "code",
        "colab": {},
        "outputId": "300f0e05-30be-413c-fc5f-a48b2bc2c0df"
      },
      "source": [
        "np.ones(4)"
      ],
      "execution_count": 0,
      "outputs": [
        {
          "output_type": "execute_result",
          "data": {
            "text/plain": [
              "array([1., 1., 1., 1.])"
            ]
          },
          "metadata": {
            "tags": []
          },
          "execution_count": 13
        }
      ]
    },
    {
      "cell_type": "code",
      "metadata": {
        "id": "TSDigem2dRRC",
        "colab_type": "code",
        "colab": {},
        "outputId": "9fbcb60f-d7f5-43ae-c616-2f5b41c8750e"
      },
      "source": [
        "np.ones((4,4))"
      ],
      "execution_count": 0,
      "outputs": [
        {
          "output_type": "execute_result",
          "data": {
            "text/plain": [
              "array([[1., 1., 1., 1.],\n",
              "       [1., 1., 1., 1.],\n",
              "       [1., 1., 1., 1.],\n",
              "       [1., 1., 1., 1.]])"
            ]
          },
          "metadata": {
            "tags": []
          },
          "execution_count": 14
        }
      ]
    },
    {
      "cell_type": "markdown",
      "metadata": {
        "id": "O4QvJUI4dRRI",
        "colab_type": "text"
      },
      "source": [
        "#### linspace\n",
        "Returns evenly spaced numbers over a specified interval"
      ]
    },
    {
      "cell_type": "code",
      "metadata": {
        "id": "U60fOCeUdRRJ",
        "colab_type": "code",
        "colab": {},
        "outputId": "246c16e2-1c5c-4f72-d5ce-0f99887b61c2"
      },
      "source": [
        "np.linspace(0,10,3)"
      ],
      "execution_count": 0,
      "outputs": [
        {
          "output_type": "execute_result",
          "data": {
            "text/plain": [
              "array([ 0.,  5., 10.])"
            ]
          },
          "metadata": {
            "tags": []
          },
          "execution_count": 16
        }
      ]
    },
    {
      "cell_type": "code",
      "metadata": {
        "id": "Zbn95P1ndRRP",
        "colab_type": "code",
        "colab": {},
        "outputId": "64df16fa-a31d-4399-8389-5baef90674f2"
      },
      "source": [
        "np.linspace(0,31,30)"
      ],
      "execution_count": 0,
      "outputs": [
        {
          "output_type": "execute_result",
          "data": {
            "text/plain": [
              "array([ 0.        ,  1.06896552,  2.13793103,  3.20689655,  4.27586207,\n",
              "        5.34482759,  6.4137931 ,  7.48275862,  8.55172414,  9.62068966,\n",
              "       10.68965517, 11.75862069, 12.82758621, 13.89655172, 14.96551724,\n",
              "       16.03448276, 17.10344828, 18.17241379, 19.24137931, 20.31034483,\n",
              "       21.37931034, 22.44827586, 23.51724138, 24.5862069 , 25.65517241,\n",
              "       26.72413793, 27.79310345, 28.86206897, 29.93103448, 31.        ])"
            ]
          },
          "metadata": {
            "tags": []
          },
          "execution_count": 19
        }
      ]
    },
    {
      "cell_type": "markdown",
      "metadata": {
        "id": "seZNyM8tdRRU",
        "colab_type": "text"
      },
      "source": [
        "#### eye\n",
        "Creates an identity matrix"
      ]
    },
    {
      "cell_type": "code",
      "metadata": {
        "id": "K9fxFN6QdRRV",
        "colab_type": "code",
        "colab": {},
        "outputId": "419593f7-70f3-4cce-c3d3-7d7de478f190"
      },
      "source": [
        "np.eye(4)"
      ],
      "execution_count": 0,
      "outputs": [
        {
          "output_type": "execute_result",
          "data": {
            "text/plain": [
              "array([[1., 0., 0., 0.],\n",
              "       [0., 1., 0., 0.],\n",
              "       [0., 0., 1., 0.],\n",
              "       [0., 0., 0., 1.]])"
            ]
          },
          "metadata": {
            "tags": []
          },
          "execution_count": 20
        }
      ]
    },
    {
      "cell_type": "markdown",
      "metadata": {
        "id": "-rT49jKDdRRb",
        "colab_type": "text"
      },
      "source": [
        "#### Random\n",
        "\n",
        "Numpy has lots of ways to create random number arrays\n",
        "\n",
        "* rand\n",
        "* randn\n",
        "* randint\n",
        "\n",
        "#### rand\n",
        "Create and array of the given shape and populate it with the random samples from a uniform distribution over [0,1]"
      ]
    },
    {
      "cell_type": "code",
      "metadata": {
        "id": "naAlZpNFdRRd",
        "colab_type": "code",
        "colab": {},
        "outputId": "1c82d40a-5e7f-43d5-c705-ec1afd530be8"
      },
      "source": [
        "np.random.rand(10)"
      ],
      "execution_count": 0,
      "outputs": [
        {
          "output_type": "execute_result",
          "data": {
            "text/plain": [
              "array([0.14034719, 0.30364055, 0.75529382, 0.41515395, 0.4046623 ,\n",
              "       0.4331461 , 0.97161157, 0.0489634 , 0.52316006, 0.11840016])"
            ]
          },
          "metadata": {
            "tags": []
          },
          "execution_count": 22
        }
      ]
    },
    {
      "cell_type": "code",
      "metadata": {
        "id": "uqUcu7ZOdRRk",
        "colab_type": "code",
        "colab": {},
        "outputId": "5bfcab98-fff2-4a0d-b7cb-7d17aacac650"
      },
      "source": [
        "np.random.rand(5,5)"
      ],
      "execution_count": 0,
      "outputs": [
        {
          "output_type": "execute_result",
          "data": {
            "text/plain": [
              "array([[0.6893528 , 0.03760129, 0.54858458, 0.81170793, 0.25080827],\n",
              "       [0.15680576, 0.11543732, 0.2890165 , 0.80941325, 0.80684248],\n",
              "       [0.71198892, 0.20435325, 0.62466737, 0.00113458, 0.79672636],\n",
              "       [0.58602474, 0.23920803, 0.92323726, 0.33614319, 0.72494641],\n",
              "       [0.13225834, 0.19519803, 0.41680453, 0.61985495, 0.09988669]])"
            ]
          },
          "metadata": {
            "tags": []
          },
          "execution_count": 23
        }
      ]
    },
    {
      "cell_type": "markdown",
      "metadata": {
        "id": "SduwHBqSdRRs",
        "colab_type": "text"
      },
      "source": [
        "#### randn\n",
        "Creates a sample/samples from the standard normal distribution unlike rand which is uniform distribution"
      ]
    },
    {
      "cell_type": "code",
      "metadata": {
        "id": "p_GpCwdXdRRt",
        "colab_type": "code",
        "colab": {},
        "outputId": "3d9ecf76-54a2-42b3-f15f-6ad8ad060390"
      },
      "source": [
        "np.random.randn(2)"
      ],
      "execution_count": 0,
      "outputs": [
        {
          "output_type": "execute_result",
          "data": {
            "text/plain": [
              "array([0.61694307, 1.00608518])"
            ]
          },
          "metadata": {
            "tags": []
          },
          "execution_count": 24
        }
      ]
    },
    {
      "cell_type": "code",
      "metadata": {
        "id": "6d1tF6pJdRRx",
        "colab_type": "code",
        "colab": {},
        "outputId": "deb2215a-a2df-4853-dd7e-9332bcc001d6"
      },
      "source": [
        "np.random.randn(4,4)"
      ],
      "execution_count": 0,
      "outputs": [
        {
          "output_type": "execute_result",
          "data": {
            "text/plain": [
              "array([[ 1.49438127e+00,  8.80962972e-01, -8.56305550e-01,\n",
              "        -4.14847269e-01],\n",
              "       [ 3.84787545e-01,  1.89233459e+00, -9.04755694e-01,\n",
              "        -5.15437670e-01],\n",
              "       [ 3.79913938e-01, -6.26243274e-01,  1.31685942e+00,\n",
              "        -5.31236016e-01],\n",
              "       [-1.35986911e+00,  1.49506468e-01, -6.33982560e-01,\n",
              "         1.84556045e-03]])"
            ]
          },
          "metadata": {
            "tags": []
          },
          "execution_count": 25
        }
      ]
    },
    {
      "cell_type": "markdown",
      "metadata": {
        "id": "L67WqT02dRR1",
        "colab_type": "text"
      },
      "source": [
        "#### randint\n",
        "Returns random integers from low (included) to high (excluded)"
      ]
    },
    {
      "cell_type": "code",
      "metadata": {
        "id": "TnTZEiBvdRR2",
        "colab_type": "code",
        "colab": {},
        "outputId": "e9419b81-7239-4cd1-ef04-e249746bf984"
      },
      "source": [
        "np.random.randint(0,100)"
      ],
      "execution_count": 0,
      "outputs": [
        {
          "output_type": "execute_result",
          "data": {
            "text/plain": [
              "97"
            ]
          },
          "metadata": {
            "tags": []
          },
          "execution_count": 26
        }
      ]
    },
    {
      "cell_type": "code",
      "metadata": {
        "id": "1LVXteWmdRR5",
        "colab_type": "code",
        "colab": {},
        "outputId": "b1059c5a-97bb-45cb-f83a-19da24794275"
      },
      "source": [
        "np.random.randint(1,100,10)"
      ],
      "execution_count": 0,
      "outputs": [
        {
          "output_type": "execute_result",
          "data": {
            "text/plain": [
              "array([80, 14, 89, 21, 43, 50, 44, 64, 31, 23])"
            ]
          },
          "metadata": {
            "tags": []
          },
          "execution_count": 27
        }
      ]
    },
    {
      "cell_type": "markdown",
      "metadata": {
        "id": "MtwDaDLJdRR9",
        "colab_type": "text"
      },
      "source": [
        "### Array attributes and methods"
      ]
    },
    {
      "cell_type": "code",
      "metadata": {
        "id": "QNn50EAMdRR-",
        "colab_type": "code",
        "colab": {}
      },
      "source": [
        "arr = np.arange(25)\n",
        "ranarr = np.random.randint(0,50,10)"
      ],
      "execution_count": 0,
      "outputs": []
    },
    {
      "cell_type": "code",
      "metadata": {
        "id": "c3TuIe68dRSD",
        "colab_type": "code",
        "colab": {},
        "outputId": "05d010f5-6ac4-4ddf-c05f-5cd98758579b"
      },
      "source": [
        "arr"
      ],
      "execution_count": 0,
      "outputs": [
        {
          "output_type": "execute_result",
          "data": {
            "text/plain": [
              "array([ 0,  1,  2,  3,  4,  5,  6,  7,  8,  9, 10, 11, 12, 13, 14, 15, 16,\n",
              "       17, 18, 19, 20, 21, 22, 23, 24])"
            ]
          },
          "metadata": {
            "tags": []
          },
          "execution_count": 30
        }
      ]
    },
    {
      "cell_type": "code",
      "metadata": {
        "id": "ti9vGhtbdRSH",
        "colab_type": "code",
        "colab": {},
        "outputId": "16aec803-1e0a-4dbe-d512-cd57eadcdb05"
      },
      "source": [
        "ranarr"
      ],
      "execution_count": 0,
      "outputs": [
        {
          "output_type": "execute_result",
          "data": {
            "text/plain": [
              "array([ 0,  1,  5, 46, 45, 11,  3, 14, 21, 29])"
            ]
          },
          "metadata": {
            "tags": []
          },
          "execution_count": 31
        }
      ]
    },
    {
      "cell_type": "markdown",
      "metadata": {
        "id": "kGg4bCYfdRSL",
        "colab_type": "text"
      },
      "source": [
        "### Reshape\n",
        "\n",
        "Returns an array containing same data but different shape"
      ]
    },
    {
      "cell_type": "code",
      "metadata": {
        "id": "SojHPHW6dRSM",
        "colab_type": "code",
        "colab": {},
        "outputId": "b18f636c-3ba9-487f-dcee-c7068dfd8f7a"
      },
      "source": [
        "arr.reshape(5,5)"
      ],
      "execution_count": 0,
      "outputs": [
        {
          "output_type": "execute_result",
          "data": {
            "text/plain": [
              "array([[ 0,  1,  2,  3,  4],\n",
              "       [ 5,  6,  7,  8,  9],\n",
              "       [10, 11, 12, 13, 14],\n",
              "       [15, 16, 17, 18, 19],\n",
              "       [20, 21, 22, 23, 24]])"
            ]
          },
          "metadata": {
            "tags": []
          },
          "execution_count": 32
        }
      ]
    },
    {
      "cell_type": "markdown",
      "metadata": {
        "id": "N35RQSxidRSP",
        "colab_type": "text"
      },
      "source": [
        "#### max, min,argmax,argmin\n",
        "\n",
        "Useful methods to find minimum and maximum values or index locations."
      ]
    },
    {
      "cell_type": "code",
      "metadata": {
        "id": "TnVDaRuTdRSQ",
        "colab_type": "code",
        "colab": {},
        "outputId": "87e5da19-02fe-4342-f03e-4c4f4718b4b2"
      },
      "source": [
        "ranarr"
      ],
      "execution_count": 0,
      "outputs": [
        {
          "output_type": "execute_result",
          "data": {
            "text/plain": [
              "array([ 0,  1,  5, 46, 45, 11,  3, 14, 21, 29])"
            ]
          },
          "metadata": {
            "tags": []
          },
          "execution_count": 33
        }
      ]
    },
    {
      "cell_type": "code",
      "metadata": {
        "id": "T38wiKCHdRST",
        "colab_type": "code",
        "colab": {},
        "outputId": "943c4286-4683-40ce-b431-d8e0b8444a07"
      },
      "source": [
        "ranarr.max()"
      ],
      "execution_count": 0,
      "outputs": [
        {
          "output_type": "execute_result",
          "data": {
            "text/plain": [
              "46"
            ]
          },
          "metadata": {
            "tags": []
          },
          "execution_count": 34
        }
      ]
    },
    {
      "cell_type": "code",
      "metadata": {
        "id": "Nh05n7mydRSX",
        "colab_type": "code",
        "colab": {},
        "outputId": "0dad7911-f309-47df-b3ad-8e7e587af6b9"
      },
      "source": [
        "ranarr.argmax()"
      ],
      "execution_count": 0,
      "outputs": [
        {
          "output_type": "execute_result",
          "data": {
            "text/plain": [
              "3"
            ]
          },
          "metadata": {
            "tags": []
          },
          "execution_count": 35
        }
      ]
    },
    {
      "cell_type": "code",
      "metadata": {
        "id": "htIJSyL_dRSb",
        "colab_type": "code",
        "colab": {},
        "outputId": "afbe797c-773a-4e96-9ea9-a2f562afc447"
      },
      "source": [
        "ranarr.min()"
      ],
      "execution_count": 0,
      "outputs": [
        {
          "output_type": "execute_result",
          "data": {
            "text/plain": [
              "0"
            ]
          },
          "metadata": {
            "tags": []
          },
          "execution_count": 36
        }
      ]
    },
    {
      "cell_type": "code",
      "metadata": {
        "id": "Wq2a2uiUdRSf",
        "colab_type": "code",
        "colab": {},
        "outputId": "3e64cd11-b341-46ee-b5ac-8821561517d2"
      },
      "source": [
        "ranarr.argmin()"
      ],
      "execution_count": 0,
      "outputs": [
        {
          "output_type": "execute_result",
          "data": {
            "text/plain": [
              "0"
            ]
          },
          "metadata": {
            "tags": []
          },
          "execution_count": 37
        }
      ]
    },
    {
      "cell_type": "markdown",
      "metadata": {
        "id": "YwFuhJ1_dRSi",
        "colab_type": "text"
      },
      "source": [
        "### Shape\n",
        "Shape is an attribute that arrays have"
      ]
    },
    {
      "cell_type": "code",
      "metadata": {
        "id": "kyIqaqtZdRSj",
        "colab_type": "code",
        "colab": {},
        "outputId": "f77d8b40-9719-47c9-bff3-f98befcde394"
      },
      "source": [
        "arr.shape"
      ],
      "execution_count": 0,
      "outputs": [
        {
          "output_type": "execute_result",
          "data": {
            "text/plain": [
              "(25,)"
            ]
          },
          "metadata": {
            "tags": []
          },
          "execution_count": 39
        }
      ]
    },
    {
      "cell_type": "code",
      "metadata": {
        "id": "0e_pHDeXdRSm",
        "colab_type": "code",
        "colab": {},
        "outputId": "76bc9b1b-644d-476c-f3d6-c8a4ebf097e1"
      },
      "source": [
        "arr.reshape(1,25).shape"
      ],
      "execution_count": 0,
      "outputs": [
        {
          "output_type": "execute_result",
          "data": {
            "text/plain": [
              "(1, 25)"
            ]
          },
          "metadata": {
            "tags": []
          },
          "execution_count": 41
        }
      ]
    },
    {
      "cell_type": "code",
      "metadata": {
        "id": "DmggG2BJdRSr",
        "colab_type": "code",
        "colab": {},
        "outputId": "2da840cb-7f8a-4323-e78c-c0f1b98e5df8"
      },
      "source": [
        "arr.reshape(25,1).shape"
      ],
      "execution_count": 0,
      "outputs": [
        {
          "output_type": "execute_result",
          "data": {
            "text/plain": [
              "(25, 1)"
            ]
          },
          "metadata": {
            "tags": []
          },
          "execution_count": 43
        }
      ]
    },
    {
      "cell_type": "markdown",
      "metadata": {
        "id": "XAb-t7HtdRSv",
        "colab_type": "text"
      },
      "source": [
        "### dtype\n",
        "Data type of object in array"
      ]
    },
    {
      "cell_type": "code",
      "metadata": {
        "id": "QLBiLTWhdRSv",
        "colab_type": "code",
        "colab": {},
        "outputId": "315f90a1-c46a-47c0-810f-b16e3aa1cfdb"
      },
      "source": [
        "arr.dtype"
      ],
      "execution_count": 0,
      "outputs": [
        {
          "output_type": "execute_result",
          "data": {
            "text/plain": [
              "dtype('int64')"
            ]
          },
          "metadata": {
            "tags": []
          },
          "execution_count": 44
        }
      ]
    },
    {
      "cell_type": "markdown",
      "metadata": {
        "id": "fsr9mN76dRSz",
        "colab_type": "text"
      },
      "source": [
        "# Great Job !!"
      ]
    }
  ]
}